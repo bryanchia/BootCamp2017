{
 "cells": [
  {
   "cell_type": "code",
   "execution_count": null,
   "metadata": {
    "collapsed": true
   },
   "outputs": [],
   "source": [
    "import numpy as np\n",
    "\n",
    "def newton(g, dg, dg2, x0):\n",
    "    \n",
    "    x1 = 0\n",
    "    diff = 15 \n",
    "    epsilon = 0.0001\n",
    "    it = 0\n",
    "    \n",
    "    while ( diff > epsilon ): \n",
    "        x1 = x0 - (dg(x0)/dg2(x0))\n",
    "        diff = abs(x1 - x0)\n",
    "        x0 = x1\n",
    "        it += 1\n",
    "    \n",
    "    return x1, it\n",
    "\n",
    "x0 = 0\n",
    "x1, it = newton(g, dg, dg2, x0)"
   ]
  }
 ],
 "metadata": {
  "kernelspec": {
   "display_name": "Python 3",
   "language": "python",
   "name": "python3"
  },
  "language_info": {
   "codemirror_mode": {
    "name": "ipython",
    "version": 3
   },
   "file_extension": ".py",
   "mimetype": "text/x-python",
   "name": "python",
   "nbconvert_exporter": "python",
   "pygments_lexer": "ipython3",
   "version": "3.6.1"
  }
 },
 "nbformat": 4,
 "nbformat_minor": 2
}
