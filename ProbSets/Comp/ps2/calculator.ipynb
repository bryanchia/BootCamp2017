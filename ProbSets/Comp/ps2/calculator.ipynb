{
 "cells": [
  {
   "cell_type": "code",
   "execution_count": 8,
   "metadata": {},
   "outputs": [
    {
     "name": "stdout",
     "output_type": "stream",
     "text": [
      "7\n",
      "30\n",
      "3.0\n"
     ]
    }
   ],
   "source": [
    "#Creating the calculator module\n",
    "\n",
    "def calcsum(A, B):\n",
    "    finalsum = A + B\n",
    "    return finalsum\n",
    "\n",
    "def calcprod(A, B):\n",
    "    finalprod = A * B\n",
    "    return finalprod\n",
    "\n",
    "def calcsqrt(A):\n",
    "    from math import sqrt\n",
    "    finalsqrt = sqrt(A)\n",
    "    return finalsqrt\n",
    "\n",
    "if __name__ ==\"__main__\":\n",
    "    print(calcsum(3,4))\n",
    "    print(calcprod(5,6))\n",
    "    print(calcsqrt(9))"
   ]
  },
  {
   "cell_type": "code",
   "execution_count": null,
   "metadata": {
    "collapsed": true
   },
   "outputs": [],
   "source": []
  }
 ],
 "metadata": {
  "kernelspec": {
   "display_name": "Python 3",
   "language": "python",
   "name": "python3"
  },
  "language_info": {
   "codemirror_mode": {
    "name": "ipython",
    "version": 3
   },
   "file_extension": ".py",
   "mimetype": "text/x-python",
   "name": "python",
   "nbconvert_exporter": "python",
   "pygments_lexer": "ipython3",
   "version": "3.6.1"
  }
 },
 "nbformat": 4,
 "nbformat_minor": 2
}
