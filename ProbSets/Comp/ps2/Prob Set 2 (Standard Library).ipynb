{
 "cells": [
  {
   "cell_type": "code",
   "execution_count": null,
   "metadata": {
    "collapsed": true
   },
   "outputs": [],
   "source": [
    "#Problem 1\n",
    "\n",
    "def prob1(list):\n",
    "    \n",
    "    maxlist = max(list)\n",
    "    minlist = min(list)\n",
    "    sumlist = sum(list)\n",
    "    lenlist = len(list)\n",
    "    avglist = sumlist/lenlist\n",
    "    final_list = [maxlist, minlist, avglist]\n",
    "    \n",
    "    return final_list\n",
    "\n",
    "#Test Case\n",
    "list = [1,2,3,4,5,6,7]\n",
    "\n",
    "final_list = prob1(list)\n",
    "print(final_list)\n",
    "\n",
    "#Single Line Style\n",
    "\n",
    "prob1A = lambda list: [max(list), min(list), sum(list)/len(list)]\n",
    "\n",
    "sl_list = prob1A(list)\n",
    "\n",
    "print (sl_list)"
   ]
  },
  {
   "cell_type": "code",
   "execution_count": 9,
   "metadata": {},
   "outputs": [
    {
     "name": "stdout",
     "output_type": "stream",
     "text": [
      "Numbers, strings & tuples are immutable while lists & dictionaries are mutable\n"
     ]
    }
   ],
   "source": [
    "#Problem 2\n",
    "\n",
    "#Numbers\n",
    "\n",
    "num1 = 1\n",
    "num2 = num1\n",
    "num2 += 1\n",
    "num1 == num2\n",
    "#Numbers are immutable\n",
    "\n",
    "#Strings \n",
    "\n",
    "word1 = 'a'\n",
    "word2 = word1\n",
    "word2 +='a'\n",
    "word1 == word2\n",
    "#Strings are immutable \n",
    "\n",
    "#Lists\n",
    "\n",
    "list1 = [1,1]\n",
    "list2 = list1\n",
    "list2.append(1)\n",
    "list1 == list2\n",
    "#Lists are mutable\n",
    "\n",
    "#Tuples\n",
    "\n",
    "tuple1 = (1,2)\n",
    "tuple2 = tuple1\n",
    "tuple2 += (1,)\n",
    "tuple1 == tuple2\n",
    "#Tuples are immutable\n",
    "\n",
    "#Dictionaries\n",
    "\n",
    "dict1 = {1:'x', 2:'b'}\n",
    "dict2 = dict1\n",
    "dict2[1] = 'a'\n",
    "dict1 == dict2\n",
    "#Dicts are mutable\n",
    "\n",
    "print('Numbers, strings & tuples are immutable while lists & dictionaries are mutable')"
   ]
  },
  {
   "cell_type": "code",
   "execution_count": 12,
   "metadata": {},
   "outputs": [
    {
     "name": "stdout",
     "output_type": "stream",
     "text": [
      "5.0\n"
     ]
    }
   ],
   "source": [
    "#Problem 3\n",
    "\n",
    "#Refer to the jupyter notebook calculator.ipynb to find the calculator module code.\n",
    "#I saved the calculator module as calculator.py in my Problem Set folder \n",
    "\n",
    "def prob3(A,B):\n",
    "    \n",
    "    import calculator as c\n",
    "    \n",
    "    hypo = c.calcsqrt(c.calcsum(c.calcprod(A,A),c.calcprod(B,B)))\n",
    "    \n",
    "    return hypo\n",
    "\n",
    "print(prob3(3,4))"
   ]
  },
  {
   "cell_type": "code",
   "execution_count": 2,
   "metadata": {
    "collapsed": true
   },
   "outputs": [],
   "source": [
    "#Problem 4\n",
    "\n",
    "#Saved in the same folder as this file called \"solutions.py\"\n"
   ]
  },
  {
   "cell_type": "code",
   "execution_count": null,
   "metadata": {
    "collapsed": true
   },
   "outputs": [],
   "source": []
  }
 ],
 "metadata": {
  "kernelspec": {
   "display_name": "Python 3",
   "language": "python",
   "name": "python3"
  },
  "language_info": {
   "codemirror_mode": {
    "name": "ipython",
    "version": 3
   },
   "file_extension": ".py",
   "mimetype": "text/x-python",
   "name": "python",
   "nbconvert_exporter": "python",
   "pygments_lexer": "ipython3",
   "version": "3.6.1"
  }
 },
 "nbformat": 4,
 "nbformat_minor": 2
}
