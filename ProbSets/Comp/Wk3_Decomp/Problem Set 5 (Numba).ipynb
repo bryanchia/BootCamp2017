{
 "cells": [
  {
   "cell_type": "code",
   "execution_count": 1,
   "metadata": {},
   "outputs": [
    {
     "name": "stdout",
     "output_type": "stream",
     "text": [
      "0.66983\n",
      "10 loops, best of 3: 119 ms per loop\n",
      "0.67305\n",
      "100 loops, best of 3: 2.73 ms per loop\n"
     ]
    }
   ],
   "source": [
    "import matplotlib.pyplot as plt\n",
    "import numpy as np\n",
    "from numba import jit\n",
    "import timeit\n",
    "\n",
    "p, q = 0.1, 0.2  # Prob of leaving low and high state respectively\n",
    "\n",
    "def compute_series(n):\n",
    "    x = np.empty(n, dtype=int)\n",
    "    x[0] = 1  # Start in state 1\n",
    "    U = np.random.uniform(0, 1, size=n)\n",
    "    for t in range(1, n):\n",
    "        current_x = x[t-1]\n",
    "        if current_x == 0:\n",
    "            x[t] = U[t] < p\n",
    "        else:\n",
    "            x[t] = U[t] > q\n",
    "    return x\n",
    "\n",
    "n = 100000\n",
    "x = compute_series(n)\n",
    "print(np.mean(x == 0))  # Fraction of time x is in state 0\n",
    "%timeit compute_series(n)\n",
    "\n",
    "compute_series_numba = jit(compute_series)\n",
    "\n",
    "x = compute_series_numba(n)\n",
    "print(np.mean(x == 0))\n",
    "\n",
    "%timeit compute_series_numba(n)"
   ]
  },
  {
   "cell_type": "code",
   "execution_count": 2,
   "metadata": {
    "collapsed": true
   },
   "outputs": [],
   "source": [
    "%load_ext Cython"
   ]
  },
  {
   "cell_type": "code",
   "execution_count": 3,
   "metadata": {},
   "outputs": [
    {
     "name": "stdout",
     "output_type": "stream",
     "text": [
      "0.66683\n"
     ]
    }
   ],
   "source": [
    "%%cython\n",
    "import numpy as np\n",
    "from numpy cimport int_t, float_t\n",
    "\n",
    "def compute_series_cy(int n):\n",
    "    # == Create NumPy arrays first == #\n",
    "    x_np = np.empty(n, dtype=int)\n",
    "    U_np = np.random.uniform(0, 1, size=n)\n",
    "    # == Now create memoryviews of the arrays == #\n",
    "    cdef int_t [:] x = x_np\n",
    "    cdef float_t [:] U = U_np\n",
    "    # == Other variable declarations == #\n",
    "    cdef float p = 0.1\n",
    "    cdef float q = 0.2\n",
    "    cdef int t\n",
    "    # == Main loop == #\n",
    "    x[0] = 1\n",
    "    for t in range(1, n):\n",
    "        current_x = x[t-1]\n",
    "        if current_x == 0:\n",
    "            x[t] = U[t] < p\n",
    "        else:\n",
    "            x[t] = U[t] > q\n",
    "    return np.asarray(x)\n",
    "\n",
    "compute_series_cy(10)\n",
    "\n",
    "n = int(100000)\n",
    "x = compute_series_cy(n)\n",
    "print(np.mean(x == 0))\n",
    "\n"
   ]
  },
  {
   "cell_type": "code",
   "execution_count": 4,
   "metadata": {},
   "outputs": [
    {
     "name": "stdout",
     "output_type": "stream",
     "text": [
      "100 loops, best of 3: 3.44 ms per loop\n"
     ]
    }
   ],
   "source": [
    "%timeit compute_series_cy(n)"
   ]
  }
 ],
 "metadata": {
  "kernelspec": {
   "display_name": "Python 3",
   "language": "python",
   "name": "python3"
  },
  "language_info": {
   "codemirror_mode": {
    "name": "ipython",
    "version": 3
   },
   "file_extension": ".py",
   "mimetype": "text/x-python",
   "name": "python",
   "nbconvert_exporter": "python",
   "pygments_lexer": "ipython3",
   "version": "3.6.1"
  }
 },
 "nbformat": 4,
 "nbformat_minor": 2
}
