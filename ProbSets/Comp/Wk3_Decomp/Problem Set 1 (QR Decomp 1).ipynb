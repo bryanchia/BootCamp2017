{
 "cells": [
  {
   "cell_type": "code",
   "execution_count": 30,
   "metadata": {},
   "outputs": [
    {
     "name": "stdout",
     "output_type": "stream",
     "text": [
      "(6, 4) (6, 4) (4, 4)\n",
      "True\n",
      "True\n",
      "True\n"
     ]
    }
   ],
   "source": [
    "#Problem 1\n",
    "\n",
    "import numpy as np\n",
    "from scipy import linalg as la\n",
    "\n",
    "def gs(A):\n",
    "    m,n = np.shape(A)\n",
    "    Q = np.copy(A)\n",
    "    R = np.zeros((n, n))\n",
    "    for i in range (0, n):\n",
    "        R[i,i] = la.norm(Q[:,i])\n",
    "        Q[:,i] = Q[:,i] / R[i,i]\n",
    "        for j in range(i+1, n):\n",
    "            R[i,j] = Q[:,j].T @ Q[:,i]\n",
    "            Q[:,j] -= (R[i,j] * Q[:,i])\n",
    "    return Q, R \n",
    "\n",
    "\n",
    "A = np.random.random((6,4))\n",
    "\n",
    "Q , R = gs(A)\n",
    "Qs,Rs = la.qr(A, mode=\"economic\")\n",
    "print (A.shape, Q.shape, R.shape)\n",
    "\n",
    "print(np.allclose(np.triu(R), R))\n",
    "print(np.allclose(np.dot(Q.T, Q), np.identity(4)))\n",
    "print(np.allclose(np.dot(Q, R), A))\n"
   ]
  },
  {
   "cell_type": "code",
   "execution_count": 47,
   "metadata": {},
   "outputs": [
    {
     "name": "stdout",
     "output_type": "stream",
     "text": [
      "0.42254507464833907\n"
     ]
    },
    {
     "data": {
      "text/plain": [
       "0.4225450746483391"
      ]
     },
     "execution_count": 47,
     "metadata": {},
     "output_type": "execute_result"
    }
   ],
   "source": [
    "#Problem 3\n",
    "\n",
    "det = lambda B: la.det(gs(B)[1])\n",
    "\n",
    "B = np.random.random((4,4))\n",
    "print(det(B))\n",
    "\n",
    "#check \n",
    "la.det(B)"
   ]
  },
  {
   "cell_type": "code",
   "execution_count": 49,
   "metadata": {},
   "outputs": [
    {
     "name": "stdout",
     "output_type": "stream",
     "text": [
      "[[ 0.61510174]\n",
      " [-0.06265642]\n",
      " [ 0.10719648]\n",
      " [-0.06525018]]\n"
     ]
    }
   ],
   "source": [
    "#Problem 2\n",
    "\n",
    "def solveeq (A, b):\n",
    "    \n",
    "    Q, R = gs(A)\n",
    "    y = Q.T @ b\n",
    "    x = la.solve(R, y)\n",
    "    \n",
    "    return x\n",
    "\n",
    "b = np.random.random((4,1))\n",
    "x = solveeq(B,b)\n",
    "print(x)"
   ]
  },
  {
   "cell_type": "code",
   "execution_count": 84,
   "metadata": {},
   "outputs": [
    {
     "name": "stdout",
     "output_type": "stream",
     "text": [
      "(5, 3) (5, 5) (5, 3)\n"
     ]
    },
    {
     "data": {
      "text/plain": [
       "True"
      ]
     },
     "execution_count": 84,
     "metadata": {},
     "output_type": "execute_result"
    }
   ],
   "source": [
    "#Problem 4\n",
    "\n",
    "def qr(A):\n",
    "    m,n = np.shape(A)\n",
    "    R = np.copy(A)\n",
    "    Q = np.identity((m))\n",
    "    for k in range (0, n - 1):\n",
    "        u = np.copy(R[k:,k])\n",
    "        sign =  lambda x: 1 if x >= 0 else -1\n",
    "        u[0] = u[0] + sign(u[0]) * la.norm(u)\n",
    "        u = u / la.norm(u)\n",
    "        R[k:,k:] = R[k:,k:] - 2 * np.outer (u, u.T@R[k:,k:])\n",
    "        Q[k:,:] = Q[k:,:] - 2 * np.outer (u, u.T@Q[k:,:])\n",
    "    return Q.T, R \n",
    "\n",
    "A = np.random.random((5, 3))\n",
    "Q, R = qr(A)\n",
    "Qs,Rs = la.qr(A)\n",
    "\n",
    "print (A.shape, Q.shape, R.shape)\n",
    "np.allclose(Q.dot(R), A)\n",
    "np.allclose(Qs.dot(Rs),Q.dot(R) )"
   ]
  },
  {
   "cell_type": "code",
   "execution_count": 97,
   "metadata": {},
   "outputs": [
    {
     "name": "stdout",
     "output_type": "stream",
     "text": [
      "True\n",
      "True\n",
      "True\n",
      "True\n"
     ]
    }
   ],
   "source": [
    "#Problem 5\n",
    "\n",
    "def hb(A):\n",
    "    m,n = np.shape(A)\n",
    "    H = np.copy(A)\n",
    "    Q = np.identity((m))\n",
    "    for k in range (0, n - 2):\n",
    "        u = np.copy(H[k+1:,k])\n",
    "        sign =  lambda x: 1 if x >= 0 else -1\n",
    "        u[0] = u[0] + sign(u[0]) * la.norm(u)\n",
    "        u = u / la.norm(u)\n",
    "        H[k+1:,k:] = H[k+1:,k:] - 2 * np.outer (u, u.T@H[k+1:,k:])\n",
    "        H[:,k+1:] = H[:,k+1:] - 2 * np.outer (H[:,k+1:]@u, u.T)\n",
    "        Q[k+1:,:] = Q[k+1:,:] - 2 * np.outer (u, u.T@Q[k+1:,:])\n",
    "    return H, Q.T\n",
    "\n",
    "A = np.random.random((4,4))\n",
    "H, Q = hb(A)\n",
    "Hs, Qs = la.hessenberg(A, calc_q=True)\n",
    "\n",
    "print(np.allclose(np.triu(H, -1), H))\n",
    "print(np.allclose(np.dot(np.dot(Q, H), Q.T), A))\n",
    "print (np.allclose(H, Hs))\n",
    "print (np.allclose(Q, Qs))"
   ]
  },
  {
   "cell_type": "code",
   "execution_count": null,
   "metadata": {
    "collapsed": true
   },
   "outputs": [],
   "source": []
  }
 ],
 "metadata": {
  "kernelspec": {
   "display_name": "Python 3",
   "language": "python",
   "name": "python3"
  },
  "language_info": {
   "codemirror_mode": {
    "name": "ipython",
    "version": 3
   },
   "file_extension": ".py",
   "mimetype": "text/x-python",
   "name": "python",
   "nbconvert_exporter": "python",
   "pygments_lexer": "ipython3",
   "version": "3.6.1"
  }
 },
 "nbformat": 4,
 "nbformat_minor": 2
}
