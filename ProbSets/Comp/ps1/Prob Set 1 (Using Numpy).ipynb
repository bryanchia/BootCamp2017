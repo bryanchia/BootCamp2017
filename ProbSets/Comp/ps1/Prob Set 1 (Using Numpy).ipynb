{
 "cells": [
  {
   "cell_type": "code",
   "execution_count": 1,
   "metadata": {},
   "outputs": [
    {
     "name": "stdout",
     "output_type": "stream",
     "text": [
      "[[ 37  14 -32 -10]\n",
      " [-54  -7  58  65]]\n"
     ]
    }
   ],
   "source": [
    "#Problem 1\n",
    "\n",
    "import numpy as np\n",
    "\n",
    "def dotproduct():\n",
    "    \n",
    "    mat1A = np.array([ [3, -1, 4],[1, 5, -9] ])\n",
    "    mat1B = np.array([ [2, 6, -5, 3],[5, -8, 9, 7],[9, -3, -2, -3] ])\n",
    "    product1 = np.dot(mat1A,mat1B)\n",
    "    \n",
    "    return product1\n",
    "\n",
    "product1 = dotproduct()\n",
    "\n",
    "print(product1)"
   ]
  },
  {
   "cell_type": "code",
   "execution_count": 2,
   "metadata": {},
   "outputs": [
    {
     "name": "stdout",
     "output_type": "stream",
     "text": [
      "[[0 0 0]\n",
      " [0 0 0]\n",
      " [0 0 0]]\n"
     ]
    }
   ],
   "source": [
    "#Problem 2\n",
    "\n",
    "import numpy as np\n",
    "\n",
    "def matrixproduct():\n",
    "    \n",
    "    mat2 = np.array([ [3, 1, 4],[1, 5, 9],[-5, 3, 1] ])\n",
    "    product2 = (-1)*mat2.dot(mat2).dot(mat2) + 9*np.dot(mat2,mat2) - 15*mat2\n",
    "    \n",
    "    return product2\n",
    "\n",
    "product2 = matrixproduct()\n",
    "\n",
    "print(product2)"
   ]
  },
  {
   "cell_type": "code",
   "execution_count": 3,
   "metadata": {},
   "outputs": [
    {
     "name": "stdout",
     "output_type": "stream",
     "text": [
      "[[ -7  -8  -3   8  25  48  77]\n",
      " [ -6 -12 -12  -6   6  24  48]\n",
      " [ -5 -10 -15 -14  -7   6  25]\n",
      " [ -4  -8 -12 -16 -14  -6   8]\n",
      " [ -3  -6  -9 -12 -15 -12  -3]\n",
      " [ -2  -4  -6  -8 -10 -12  -8]\n",
      " [ -1  -2  -3  -4  -5  -6  -7]]\n"
     ]
    }
   ],
   "source": [
    "#Problem 3\n",
    "\n",
    "import numpy as np\n",
    "\n",
    "def prob3():\n",
    "    \n",
    "    #Define matrices\n",
    "    \n",
    "    mat3A1 = np.ones((7,7))\n",
    "    mat3A = np.triu(mat3A1)\n",
    "    \n",
    "    mat3B1 = np.full((7,7),-1)\n",
    "    mat3B2 = np.tril(mat3B1)\n",
    "    \n",
    "    mat3B3 = np.full_like(mat3B1, 5)\n",
    "    mat3B4 = np.triu(mat3B3)\n",
    "    \n",
    "    mat3B5 = np.diag([-5,-5,-5,-5,-5,-5,-5])\n",
    "    \n",
    "    mat3B = mat3B2 + mat3B4 + mat3B5\n",
    "    \n",
    "    #Calculate matrix product \n",
    "    \n",
    "    product3 =  mat3A@mat3B@mat3A\n",
    "    \n",
    "    #Change data type\n",
    "    \n",
    "    product3 = product3.astype(np.int64)\n",
    "    \n",
    "    return product3\n",
    "\n",
    "product3 = prob3()\n",
    "\n",
    "print(product3)"
   ]
  },
  {
   "cell_type": "code",
   "execution_count": 9,
   "metadata": {},
   "outputs": [
    {
     "name": "stdout",
     "output_type": "stream",
     "text": [
      "[0 1 1 0 0 0 5]\n"
     ]
    }
   ],
   "source": [
    "#Problem 4\n",
    "\n",
    "import numpy as np\n",
    "\n",
    "def prob4(array):\n",
    "      \n",
    "    #Copy array\n",
    "    copy = np.copy(array)\n",
    "    \n",
    "    #Do fancy indexing\n",
    "    mask = copy < 0\n",
    "    copy[mask] = 0\n",
    "    \n",
    "    return copy\n",
    "\n",
    "#array1 is my test case here\n",
    "array1 = np.array([-1, 1, 1, -1, -1, 0, 5])\n",
    "copy = prob4(array1)\n",
    "\n",
    "print(copy)"
   ]
  },
  {
   "cell_type": "code",
   "execution_count": 25,
   "metadata": {},
   "outputs": [
    {
     "name": "stdout",
     "output_type": "stream",
     "text": [
      "[[ 0.  0.  0.  0.  1.  1.  0.  0.]\n",
      " [ 0.  0.  0.  2.  3.  0.  1.  0.]\n",
      " [ 0.  0.  0.  4.  5.  0.  0.  1.]\n",
      " [ 0.  2.  4.  0.  0.  0.  0.  0.]\n",
      " [ 1.  3.  5.  0.  0.  0.  0.  0.]\n",
      " [ 3.  0.  0.  0.  0. -2.  0.  0.]\n",
      " [ 3.  3.  0.  0.  0.  0. -2.  0.]\n",
      " [ 3.  3.  3.  0.  0.  0.  0. -2.]]\n"
     ]
    }
   ],
   "source": [
    "#Problem 5\n",
    "\n",
    "import numpy as np\n",
    "\n",
    "def prob5():\n",
    "    \n",
    "    #Define matrices \n",
    "    \n",
    "    mat5A1 = np.arange(6)\n",
    "    mat5A2 = mat5A1.reshape((3,2))\n",
    "    mat5A = mat5A2.T\n",
    "    \n",
    "    mat5B1 = np.full((3,3),3)\n",
    "    mat5B = np.tril(mat5B1)\n",
    "    \n",
    "    mat5C = np.diag([-2, -2, -2])\n",
    "    \n",
    "    mat022 = np.zeros((2, 2))\n",
    "    mat032 = np.zeros((3, 2))\n",
    "    mat023 = np.zeros((2, 3))\n",
    "    mat033 = np.zeros((3, 3))\n",
    "    \n",
    "    I = np.identity(3)\n",
    "    \n",
    "    one = np.hstack((mat033, mat5A2, I ))\n",
    "    two = np.hstack((mat5A, mat022, mat023))\n",
    "    three = np.hstack((mat5B, mat032, mat5C))\n",
    "    \n",
    "    matrix5 = np.vstack((one, two, three))\n",
    "    \n",
    "    return matrix5\n",
    "\n",
    "matrix5 = prob5()\n",
    "\n",
    "print(matrix5)"
   ]
  },
  {
   "cell_type": "code",
   "execution_count": 35,
   "metadata": {},
   "outputs": [
    {
     "name": "stdout",
     "output_type": "stream",
     "text": [
      "[[  3.]\n",
      " [ 12.]\n",
      " [ 21.]]\n",
      "[[ 0.          0.33333333  0.66666667]\n",
      " [ 0.25        0.33333333  0.41666667]\n",
      " [ 0.28571429  0.33333333  0.38095238]]\n"
     ]
    }
   ],
   "source": [
    "#Problem 6\n",
    "\n",
    "import numpy as np\n",
    "\n",
    "def prob6(array):\n",
    "    \n",
    "    copy = np.copy(array)\n",
    "    copy = copy.astype(np.float64)\n",
    "    \n",
    "    sumvector = copy.sum(axis=1)\n",
    "    sumvector1 = sumvector.reshape(3,1)\n",
    "    print(sumvector1)\n",
    "    \n",
    "    matrix6 = copy/sumvector1\n",
    "    \n",
    "    return matrix6\n",
    "\n",
    "#Test case\n",
    "array6 = np.arange(9).reshape((3,3))\n",
    "\n",
    "matrix6 = prob6(array6)\n",
    "print(matrix6)"
   ]
  },
  {
   "cell_type": "code",
   "execution_count": 10,
   "metadata": {},
   "outputs": [
    {
     "name": "stdout",
     "output_type": "stream",
     "text": [
      "70600674\n"
     ]
    }
   ],
   "source": [
    "#Problem 7 \n",
    "\n",
    "import numpy as np \n",
    "\n",
    "grid = np.load(\"/Users/bryanchia/Desktop/BootCamp2017/Computation/Wk1_PyIntro/grid.npy\") \n",
    "\n",
    "maxhor = np.max(grid[:,:-3] * grid[:,1:-2] * grid[:,2:-1] * grid[:,3:])\n",
    "#print(maxhor)\n",
    "\n",
    "maxver = np.max(grid[:-3,:] * grid[1:-2,:] * grid[2:-1,:] * grid[3:,:])\n",
    "#print(maxver)\n",
    "\n",
    "maxrightdiag = np.max(grid[:-3,:-3] * grid[1:-2,1:-2] * grid[2:-1:,2:-1] * grid[3:,3:])\n",
    "#print(maxrightdiag)\n",
    "\n",
    "maxleftdiag = np.max(grid[:-3,3:] * grid[1:-2,2:-1] * grid[2:-1:,1:-2] * grid[3:,:-3])\n",
    "#print(maxleftdiag)\n",
    "\n",
    "array = np.array([maxhor, maxver, maxrightdiag, maxleftdiag])\n",
    "\n",
    "maximum = np.max(array)\n",
    "print(maximum)"
   ]
  },
  {
   "cell_type": "code",
   "execution_count": null,
   "metadata": {
    "collapsed": true
   },
   "outputs": [],
   "source": []
  }
 ],
 "metadata": {
  "kernelspec": {
   "display_name": "Python 3",
   "language": "python",
   "name": "python3"
  },
  "language_info": {
   "codemirror_mode": {
    "name": "ipython",
    "version": 3
   },
   "file_extension": ".py",
   "mimetype": "text/x-python",
   "name": "python",
   "nbconvert_exporter": "python",
   "pygments_lexer": "ipython3",
   "version": "3.6.1"
  }
 },
 "nbformat": 4,
 "nbformat_minor": 2
}
