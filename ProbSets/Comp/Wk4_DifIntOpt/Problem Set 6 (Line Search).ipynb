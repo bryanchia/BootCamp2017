{
 "cells": [
  {
   "cell_type": "code",
   "execution_count": 2,
   "metadata": {
    "collapsed": true
   },
   "outputs": [],
   "source": [
    "import numpy as np\n",
    "import scipy as sy\n",
    "from scipy.misc import derivative\n",
    "import quantecon as qe"
   ]
  },
  {
   "cell_type": "markdown",
   "metadata": {},
   "source": [
    "Problem 1\n",
    "============"
   ]
  },
  {
   "cell_type": "code",
   "execution_count": 2,
   "metadata": {},
   "outputs": [
    {
     "name": "stdout",
     "output_type": "stream",
     "text": [
      "Golden Ratio Convergence Time: \n",
      "TOC: Elapsed: 0.0005598068237304688 seconds.\n",
      "Error =  0.000716144345678\n",
      "Iterations =  14\n"
     ]
    }
   ],
   "source": [
    "def f(x):\n",
    "    return np.exp(x) - (4 * x)\n",
    "\n",
    "def gs(f, bounds, niter):\n",
    "    \n",
    "    a, b = bounds\n",
    "    diff = 2 * abs(a-b)\n",
    "    truth = np.log(4)\n",
    "    it = 0\n",
    "    p = 0.5 * (3 - np.sqrt(5))\n",
    "    error = 1\n",
    "    \n",
    "    while (it < niter  and error > 0.001):\n",
    "    \n",
    "    #for i in range (0, niter):\n",
    "        \n",
    "        astar = a + (p * (b - a))\n",
    "        bstar = a + ((1 - p) * (b - a))\n",
    "        \n",
    "        if f(astar) >= f(bstar):\n",
    "            a = astar\n",
    "\n",
    "        else:\n",
    "            b = bstar\n",
    "        \n",
    "        mp = abs(bstar + astar) / 2\n",
    "        error = abs(mp - truth)\n",
    "        it+=1\n",
    "        \n",
    "    return mp, error, it\n",
    "\n",
    "print(\"Golden Ratio Convergence Time: \")\n",
    "qe.util.tic()\n",
    "mp, error, it = gs(f, np.array((0,3)), 100)\n",
    "qe.util.toc()\n",
    "print('Error = ', error)\n",
    "print('Iterations = ', it)"
   ]
  },
  {
   "cell_type": "markdown",
   "metadata": {},
   "source": [
    "Problem 2\n",
    "======================"
   ]
  },
  {
   "cell_type": "code",
   "execution_count": 3,
   "metadata": {},
   "outputs": [
    {
     "name": "stdout",
     "output_type": "stream",
     "text": [
      "Bisect Method Convergence Time: \n",
      "TOC: Elapsed: 0.0009610652923583984 seconds.\n",
      "Error =  0.000552173619891\n",
      "Iterations =  10\n"
     ]
    }
   ],
   "source": [
    "def bisect(f, bounds, niter):\n",
    "    \n",
    "    a, b = bounds\n",
    "    diff = 2 * abs(a-b)\n",
    "    truth = np.log(4)\n",
    "    it = 0\n",
    "    error = 1\n",
    "    \n",
    "    while (it < niter  and error > 0.001):\n",
    "    \n",
    "    #for i in range (0, niter):\n",
    "    \n",
    "        mp = abs(a + b) / 2\n",
    "        dmp = derivative(f, mp, dx=1e-10)\n",
    "        \n",
    "        if dmp > 0:\n",
    "            b = mp\n",
    "        else:\n",
    "            a = mp\n",
    "            \n",
    "        error = abs(mp - truth)\n",
    "        it+=1\n",
    "        \n",
    "    return mp, error, it\n",
    "\n",
    "print(\"Bisect Method Convergence Time: \")\n",
    "qe.util.tic()\n",
    "mp, error, it = bisect(f, np.array((0,3)), 100)\n",
    "qe.util.toc()\n",
    "print('Error = ', error)\n",
    "print('Iterations = ', it)"
   ]
  },
  {
   "cell_type": "markdown",
   "metadata": {},
   "source": [
    "The bisect method takes less iterations but slightly longer perhaps because it has to differentiate. \n",
    "\n",
    "Problem 3\n",
    "================"
   ]
  },
  {
   "cell_type": "code",
   "execution_count": 3,
   "metadata": {},
   "outputs": [
    {
     "name": "stdout",
     "output_type": "stream",
     "text": [
      "Minimum when x0=0 is -1.4473142258 , Iterations = 47\n"
     ]
    }
   ],
   "source": [
    "def g(x):\n",
    "    return x ** 2 + np.sin(5 * x)\n",
    "\n",
    "def dg(x):\n",
    "    return 2 * x + 5 * np.cos(5 * x)\n",
    "\n",
    "def dg2(x):\n",
    "    return 2 - 25 * np.sin(5 * x)\n",
    "\n",
    "def newton(g, dg, dg2, x0):\n",
    "    \n",
    "    x1 = 0\n",
    "    diff = 15 \n",
    "    epsilon = 0.0001\n",
    "    it = 0\n",
    "    \n",
    "    while ( diff > epsilon ): \n",
    "        x1 = x0 - (dg(x0)/dg2(x0))\n",
    "        diff = abs(x1 - x0)\n",
    "        x0 = x1\n",
    "        it += 1\n",
    "    \n",
    "    return x1, it\n",
    "\n",
    "x0 = 0\n",
    "x1, it = newton(g, dg, dg2, x0)\n",
    "\n",
    "print('Minimum when x0=0 is', x1,', Iterations =', it)"
   ]
  },
  {
   "cell_type": "markdown",
   "metadata": {
    "collapsed": true
   },
   "source": [
    "The cell differs when the initial point is changed to 1.\n",
    "\n",
    "Problem 4\n",
    "============"
   ]
  },
  {
   "cell_type": "code",
   "execution_count": 52,
   "metadata": {},
   "outputs": [
    {
     "name": "stdout",
     "output_type": "stream",
     "text": [
      "Minimum when x0=0, x1=-1 is -0.163654121776 , Iterations = 35\n"
     ]
    }
   ],
   "source": [
    "def h(x):\n",
    "    return x ** 2 + np.sin(x) + np.sin(10 * x)\n",
    "\n",
    "def dh(x):\n",
    "    return 2 * x + np.cos(x) + (10 * np.cos(10 * x))\n",
    "\n",
    "def newton(g, dg, dg2, x0, x1):\n",
    "    \n",
    "    x2 = 0\n",
    "    diff = 15 \n",
    "    epsilon = 0.0001\n",
    "    it = 0\n",
    "    \n",
    "    while ( diff > epsilon ): \n",
    "        x2 = x1 - ((x1 - x0) / (dh(x1) - dh(x0))) * dh(x1)\n",
    "        diff = abs(x2 - x1)\n",
    "        x1 = x2\n",
    "        it += 1\n",
    "    \n",
    "    return x2, it\n",
    "\n",
    "x0 = 0\n",
    "x1 = -1\n",
    "x2, it = newton(g, dg, dg2, x0, x1)\n",
    "\n",
    "print('Minimum when x0=0, x1=-1 is', x2,', Iterations =', it)"
   ]
  },
  {
   "cell_type": "markdown",
   "metadata": {},
   "source": [
    "Minimum point is different when we change the x0 to 1. \n",
    "\n",
    "Problem 5\n",
    "================="
   ]
  },
  {
   "cell_type": "code",
   "execution_count": 4,
   "metadata": {},
   "outputs": [
    {
     "name": "stdout",
     "output_type": "stream",
     "text": [
      "(-1.395833976053567, -1.2945353532563644, 0.001)\n"
     ]
    }
   ],
   "source": [
    "def f(x):\n",
    "    return np.exp(x) - (4 * x)\n",
    "\n",
    "def df(x):\n",
    "    return np.exp(x) - 4\n",
    "\n",
    "def bk(f, df, x, p):\n",
    "    \n",
    "    rh = df(x) * p \n",
    "    alpha = 0.1\n",
    "    rho = 0.01\n",
    "    c = 0.1\n",
    "    \n",
    "    lhs = 1\n",
    "    rhs = 0\n",
    "    \n",
    "    while (lhs > rhs):\n",
    "\n",
    "        lhs = f(x + alpha * p)\n",
    "        rhs =  f(x) + c * alpha * rh\n",
    "        alpha = rho * alpha\n",
    "    \n",
    "    return lhs, rhs, alpha\n",
    "\n",
    "print(bk(f, df, 1, 1))"
   ]
  },
  {
   "cell_type": "code",
   "execution_count": null,
   "metadata": {
    "collapsed": true
   },
   "outputs": [],
   "source": []
  }
 ],
 "metadata": {
  "kernelspec": {
   "display_name": "Python 3",
   "language": "python",
   "name": "python3"
  },
  "language_info": {
   "codemirror_mode": {
    "name": "ipython",
    "version": 3
   },
   "file_extension": ".py",
   "mimetype": "text/x-python",
   "name": "python",
   "nbconvert_exporter": "python",
   "pygments_lexer": "ipython3",
   "version": "3.6.1"
  }
 },
 "nbformat": 4,
 "nbformat_minor": 2
}
