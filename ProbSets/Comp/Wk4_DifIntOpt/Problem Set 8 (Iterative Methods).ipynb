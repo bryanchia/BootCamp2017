{
 "cells": [
  {
   "cell_type": "code",
   "execution_count": 1,
   "metadata": {
    "collapsed": true
   },
   "outputs": [],
   "source": [
    "import numpy as np\n",
    "import scipy as sy\n",
    "from scipy.misc import derivative\n",
    "import quantecon as qe\n",
    "import sympy as sp\n",
    "from matplotlib import pyplot as plt\n",
    "import numpy.linalg as la\n",
    "from scipy import sparse"
   ]
  },
  {
   "cell_type": "markdown",
   "metadata": {},
   "source": [
    "Problem 1\n",
    "================="
   ]
  },
  {
   "cell_type": "code",
   "execution_count": 2,
   "metadata": {},
   "outputs": [
    {
     "name": "stdout",
     "output_type": "stream",
     "text": [
      "[ 0.36559934 -0.08732921  0.17327043]\n",
      "True\n"
     ]
    },
    {
     "name": "stderr",
     "output_type": "stream",
     "text": [
      "/Users/bryanchia/anaconda/lib/python3.6/site-packages/ipykernel_launcher.py:8: RuntimeWarning: divide by zero encountered in true_divide\n",
      "  \n"
     ]
    }
   ],
   "source": [
    "def p1(A, b, tol, maxiters):\n",
    "    \n",
    "    iters = 0\n",
    "    error = 50\n",
    "    x = np.random.rand(len(b))\n",
    "    x1 = np.zeros(len(x))\n",
    "    \n",
    "    d = np.diag(1/A)\n",
    "    D = np.diag(d)\n",
    "    \n",
    "    while (iters < maxiters and error > tol):\n",
    "        \n",
    "        x1 = x + D @ (b - (A @ x))\n",
    "        error = la.norm( x1 - x, np.inf)\n",
    "        x = x1\n",
    "    \n",
    "    return x1\n",
    "    \n",
    "def diag_dom(n, num_entries=None):\n",
    "\n",
    "    if num_entries is None:\n",
    "        num_entries = int(n**1.5) - n\n",
    "        A = np.zeros((n,n))\n",
    "        rows = np.random.choice(np.arange(0,n), size=num_entries)\n",
    "        cols = np.random.choice(np.arange(0,n), size=num_entries)\n",
    "        data = np.random.randint(-4, 4, size=num_entries)\n",
    "    for i in range(num_entries):\n",
    "        A[rows[i], cols[i]] = data[i]\n",
    "    for i in range(n):\n",
    "        A[i,i] = np.sum(np.abs(A[i])) + 1\n",
    "    return A   \n",
    "\n",
    "A = diag_dom(3) \n",
    "b = np.random.random(3)\n",
    "tol = 1e-10\n",
    "maxiters = 1000\n",
    "\n",
    "x1 = p1(A, b, tol, maxiters)\n",
    "\n",
    "print(x1)\n",
    "print(np.allclose(A@x1, b,atol=1e-6))"
   ]
  },
  {
   "cell_type": "markdown",
   "metadata": {},
   "source": [
    "It really doesn't work for weird matrices that are randomly generated. \n",
    "\n",
    "Problem 2\n",
    "============="
   ]
  },
  {
   "cell_type": "code",
   "execution_count": 113,
   "metadata": {},
   "outputs": [
    {
     "name": "stderr",
     "output_type": "stream",
     "text": [
      "/Users/bryanchia/anaconda/lib/python3.6/site-packages/ipykernel_launcher.py:8: RuntimeWarning: divide by zero encountered in true_divide\n",
      "  \n"
     ]
    },
    {
     "data": {
      "image/png": "[encoded data removed]",
      "text/plain": [
       "<matplotlib.figure.Figure at 0x1176b8cf8>"
      ]
     },
     "metadata": {},
     "output_type": "display_data"
    },
    {
     "name": "stdout",
     "output_type": "stream",
     "text": [
      "[ 0.05106398  0.16235745  0.21700891  0.14241918  0.12617932  0.12027527\n",
      "  0.03450416  0.18888449]\n",
      "True\n"
     ]
    }
   ],
   "source": [
    "def p2(A, b, tol, maxiters, plot = False):\n",
    "    \n",
    "    iters = 0\n",
    "    error = 5\n",
    "    x = np.random.rand(len(b))\n",
    "    x1 = np.zeros(len(x))\n",
    "    error_vec = np.zeros((maxiters + 1))\n",
    "    d = np.diag(1/A)\n",
    "    D = np.diag(d)\n",
    "    \n",
    "    while (iters < maxiters and error > tol):\n",
    "        \n",
    "        x1 = x + D @ (b - (A @ x))\n",
    "        error = la.norm( x1 - x, np.inf)\n",
    "        x = x1\n",
    "        iters +=1\n",
    "        diff = la.norm(A @ x1 - b, np.inf)\n",
    "        error_vec[iters] = diff\n",
    "        \n",
    "    check = np.where(error_vec != 0)\n",
    "    error_vec = error_vec[check]\n",
    "        \n",
    "    if plot == True:\n",
    "        iters_vec = np.arange(1, len(error_vec) + 1)\n",
    "        plt.plot(iters_vec, error_vec)\n",
    "        plt.title('Convergence of Jacobi Method')\n",
    "        plt.xlabel('Iteration')\n",
    "        plt.ylabel('Absolute Error of Approximation')\n",
    "        plt.semilogy()\n",
    "        plt.show()\n",
    "    \n",
    "    return x1\n",
    "\n",
    "A = diag_dom(8)\n",
    "b = np.random.random(8)\n",
    "tol = 1e-10\n",
    "maxiters = 1000\n",
    "x1 = p2(A, b, tol, maxiters, True)\n",
    "print(x1)\n",
    "print(np.allclose(A@x1, b,atol=1e-10))"
   ]
  },
  {
   "cell_type": "markdown",
   "metadata": {},
   "source": [
    "Problem 3\n",
    "============="
   ]
  },
  {
   "cell_type": "code",
   "execution_count": 141,
   "metadata": {},
   "outputs": [
    {
     "data": {
      "image/png": "[encoded data removed]",
      "text/plain": [
       "<matplotlib.figure.Figure at 0x11b419400>"
      ]
     },
     "metadata": {},
     "output_type": "display_data"
    },
    {
     "name": "stdout",
     "output_type": "stream",
     "text": [
      "[ 0.05106398  0.16235745  0.21700891  0.14241918  0.12617932  0.12027527\n",
      "  0.03450416  0.18888449]\n",
      "True\n"
     ]
    }
   ],
   "source": [
    "def p3 (A, b, tol, maxiters, plot = False):\n",
    "    \n",
    "    iters = 0\n",
    "    iters1 = 0\n",
    "    error = 5\n",
    "    x0 = np.random.rand(len(b))\n",
    "    x1 = np.zeros(len(x0))\n",
    "    error_vec = np.zeros((maxiters + 1))\n",
    "    \n",
    "    while (error > tol and iters < maxiters):\n",
    "        \n",
    "        x = np.copy(x0)\n",
    "        for i in range (0, len(x)):\n",
    "            x1[i] = x0[i] + (1. / A[i,i]) * (b[i] - (A[i][:].T @ x0))\n",
    "            \n",
    "        x0 = x1\n",
    "        error = la.norm(x1 - x) \n",
    "        iters +=1\n",
    "    \n",
    "        #diff = la.norm(A @ x1 - b)\n",
    "        error_vec[iters] = error\n",
    "    \n",
    "    check = np.where(error_vec != 0)\n",
    "    error_vec = error_vec[check]\n",
    "        \n",
    "    if plot == True:\n",
    "        iters_vec = np.arange(1, len(error_vec) + 1)\n",
    "        plt.plot(iters_vec, error_vec)\n",
    "        plt.title('Convergence of Gauss-Seidel Method')\n",
    "        plt.xlabel('Iteration')\n",
    "        plt.ylabel('Absolute Error of Approximation')\n",
    "        plt.semilogy()\n",
    "        plt.show()\n",
    "    \n",
    "    return x1\n",
    "\n",
    "tol = 1e-10\n",
    "maxiters = 1000\n",
    "x2 = p3(A, b, tol, maxiters, True)\n",
    "print(x2)\n",
    "print(np.allclose(A@x2, b, atol=1e-5))"
   ]
  },
  {
   "cell_type": "markdown",
   "metadata": {},
   "source": [
    "Problem 4\n",
    "=========="
   ]
  },
  {
   "cell_type": "code",
   "execution_count": 122,
   "metadata": {},
   "outputs": [
    {
     "data": {
      "image/png": "[encoded data removed]",
      "text/plain": [
       "<matplotlib.figure.Figure at 0x11adc2b38>"
      ]
     },
     "metadata": {},
     "output_type": "display_data"
    },
    {
     "name": "stdout",
     "output_type": "stream",
     "text": [
      "True\n"
     ]
    }
   ],
   "source": [
    "def p4 (A, b, tol, maxiters, plot = False):\n",
    "    \n",
    "    iters = 0\n",
    "    iters1 = 0\n",
    "    error = 5\n",
    "    x0 = np.random.rand(len(b))\n",
    "    x1 = np.zeros(len(x0))\n",
    "    error_vec = np.zeros((maxiters + 1))\n",
    "    \n",
    "    while (error > tol and iters < maxiters):\n",
    "        \n",
    "        x = np.copy(x1)\n",
    "        for i in range (0, len(x)):\n",
    "            rowstart = A.indptr[i]\n",
    "            rowend = A.indptr[i+1]\n",
    "            Aix = A.data[rowstart:rowend] @ x0[A.indices[rowstart:rowend]]\n",
    "            x1[i] = x0[i] + (1. / A[i,i]) * (b[i] - Aix)\n",
    "        \n",
    "        x0 = x1\n",
    "        error = la.norm(x1 - x) \n",
    "        iters +=1\n",
    "    \n",
    "        #diff = la.norm(A @ x1 - b)\n",
    "        error_vec[iters] = error\n",
    "    \n",
    "    check = np.where(error_vec != 0)\n",
    "    error_vec = error_vec[check]\n",
    "        \n",
    "    if plot == True:\n",
    "        iters_vec = np.arange(1, len(error_vec) + 1)\n",
    "        plt.plot(iters_vec, error_vec)\n",
    "        plt.title('Convergence of Gauss-Seidel Method')\n",
    "        plt.xlabel('Iteration')\n",
    "        plt.ylabel('Absolute Error of Approximation')\n",
    "        plt.semilogy()\n",
    "        plt.show()\n",
    "    \n",
    "    return x1\n",
    "\n",
    "B = sparse.csr_matrix(diag_dom(500))\n",
    "c = np.random.random(500)\n",
    "\n",
    "#For testing\n",
    "#sA = sparse.csr_matrix(A) \n",
    "\n",
    "tol = 1e-10\n",
    "maxiters = 100\n",
    "x4 = p4(B, c, tol, maxiters, True)\n",
    "print(np.allclose(B@x4, c, atol=1e-5))\n",
    "#print(x4)"
   ]
  },
  {
   "cell_type": "markdown",
   "metadata": {},
   "source": [
    "Problem 5\n",
    "============="
   ]
  },
  {
   "cell_type": "code",
   "execution_count": 161,
   "metadata": {},
   "outputs": [
    {
     "data": {
      "image/png": "[encoded data removed]",
      "text/plain": [
       "<matplotlib.figure.Figure at 0x11ae8eeb8>"
      ]
     },
     "metadata": {},
     "output_type": "display_data"
    },
    {
     "name": "stdout",
     "output_type": "stream",
     "text": [
      "18\n",
      "True\n"
     ]
    }
   ],
   "source": [
    "def p5 (A, b, tol, maxiters, omega, plot = False):\n",
    "    \n",
    "    iters = 0\n",
    "    iters1 = 0\n",
    "    error = 5\n",
    "    x0 = np.random.rand(len(b))\n",
    "    x1 = np.zeros(len(x0))\n",
    "    error_vec = np.zeros((maxiters + 1))\n",
    "    \n",
    "    while (error > tol and iters < maxiters):\n",
    "        \n",
    "        x0 = np.copy(x1)\n",
    "        for i in range (0, len(x0)):\n",
    "            rowstart = A.indptr[i]\n",
    "            rowend = A.indptr[i+1]\n",
    "            Aix = A.data[rowstart:rowend] @ x0[A.indices[rowstart:rowend]]\n",
    "            x1[i] = x0[i] +  omega / A[i,i] * (b[i] - Aix)\n",
    "        \n",
    "        #x0 = x1\n",
    "        error = la.norm( x1 - x0) \n",
    "        iters +=1\n",
    "    \n",
    "        diff = la.norm(A @ x1 - b, np.inf)\n",
    "        error_vec[iters] = diff\n",
    "    \n",
    "    check = np.where(error_vec != 0)\n",
    "    error_vec = error_vec[check]\n",
    "        \n",
    "    if plot == True:\n",
    "        iters_vec = np.arange(1, len(error_vec) + 1)\n",
    "        plt.plot(iters_vec, error_vec)\n",
    "        plt.title('Convergence of Gauss-Seidel Method')\n",
    "        plt.xlabel('Iteration')\n",
    "        plt.ylabel('Absolute Error of Approximation')\n",
    "        plt.semilogy()\n",
    "        plt.show()\n",
    "    \n",
    "    return x1, iters\n",
    "\n",
    "#C = sparse.csr_matrix(diag_dom(500))\n",
    "#d = np.random.random(500)\n",
    "tol = 1e-10\n",
    "omega = 1\n",
    "maxiters = 10000\n",
    "\n",
    "x5, iters = p5(B, c, tol, maxiters, omega, True)\n",
    "print(iters)\n",
    "print(np.allclose(B@x5, c, atol=1e-5))\n",
    "#print(x5)"
   ]
  },
  {
   "cell_type": "markdown",
   "metadata": {},
   "source": [
    "Problem 6\n",
    "============"
   ]
  },
  {
   "cell_type": "code",
   "execution_count": 163,
   "metadata": {},
   "outputs": [
    {
     "data": {
      "image/png": "[encoded data removed]",
      "text/plain": [
       "<matplotlib.figure.Figure at 0x11af3e6d8>"
      ]
     },
     "metadata": {},
     "output_type": "display_data"
    }
   ],
   "source": [
    "from scipy import sparse\n",
    "from matplotlib import pyplot as plt\n",
    "\n",
    "def f6(n, omega, tol = 1e-8, maxiters = 100, plot = False ):\n",
    "    \n",
    "    nx, ny = n, n\n",
    "    N = nx * ny\n",
    "    row = np.zeros(n)\n",
    "    row[0] = -100\n",
    "    row[n - 1]  = -100\n",
    "    b = np.tile(row, n)\n",
    "    \n",
    "    main_diag = np.ones(N) * (-4.0)\n",
    "    side_diag = np.ones(N-1)\n",
    "    side_diag[np.arange(1,N)%4 == 0] = 0\n",
    "    up_down_diag = np.ones(N-3)\n",
    "    diagonals = [main_diag, side_diag, side_diag, up_down_diag, up_down_diag]\n",
    "    A = sparse.diags(diagonals, [0,-1, 1, nx, -nx], format = 'csr')\n",
    "    \n",
    "    U= p5(A, b, tol, maxiters, omega, plot = False)[0]\n",
    "    \n",
    "    U = U.reshape((n,n))\n",
    "    \n",
    "    if plot == True:\n",
    "        \n",
    "        x = np.arange(0, n + 1)\n",
    "        y = np.arange(0, n + 1)\n",
    "        \n",
    "        plt.pcolormesh(x, y, U, cmap= \"coolwarm\")\n",
    "        plt.colorbar()\n",
    "        plt.show()\n",
    "        \n",
    "        pass\n",
    "        \n",
    "    return U\n",
    "\n",
    "n = 20\n",
    "omega = 1\n",
    "U = f6(n, omega, plot = True)"
   ]
  },
  {
   "cell_type": "markdown",
   "metadata": {},
   "source": [
    "Problem 7\n",
    "================="
   ]
  },
  {
   "cell_type": "code",
   "execution_count": 164,
   "metadata": {},
   "outputs": [
    {
     "data": {
      "image/png": "[encoded data removed]",
      "text/plain": [
       "<matplotlib.figure.Figure at 0x11b38cef0>"
      ]
     },
     "metadata": {},
     "output_type": "display_data"
    },
    {
     "name": "stdout",
     "output_type": "stream",
     "text": [
      "Optimal Omega:  1.1\n"
     ]
    }
   ],
   "source": [
    "C = sparse.csr_matrix(diag_dom(500))\n",
    "d = np.random.random(500)\n",
    "tol = 1e-2\n",
    "omega = np.arange(1, 1.95, 0.05)\n",
    "maxiters = 1000\n",
    "iters = np.zeros(len(omega))\n",
    "    \n",
    "for i in range (0, len(omega)):\n",
    "    x4, iters[i] = p5(sA, b, tol, maxiters, omega[i], False)\n",
    "\n",
    "plt.clf\n",
    "plt.plot(omega, iters)\n",
    "plt.ylim([0, 200])\n",
    "plt.show()\n",
    "        \n",
    "minindex = np.argmin(iters)\n",
    "print('Optimal Omega: ', omega[minindex])"
   ]
  },
  {
   "cell_type": "code",
   "execution_count": null,
   "metadata": {
    "collapsed": true
   },
   "outputs": [],
   "source": []
  }
 ],
 "metadata": {
  "kernelspec": {
   "display_name": "Python 3",
   "language": "python",
   "name": "python3"
  },
  "language_info": {
   "codemirror_mode": {
    "name": "ipython",
    "version": 3
   },
   "file_extension": ".py",
   "mimetype": "text/x-python",
   "name": "python",
   "nbconvert_exporter": "python",
   "pygments_lexer": "ipython3",
   "version": "3.6.1"
  }
 },
 "nbformat": 4,
 "nbformat_minor": 2
}
