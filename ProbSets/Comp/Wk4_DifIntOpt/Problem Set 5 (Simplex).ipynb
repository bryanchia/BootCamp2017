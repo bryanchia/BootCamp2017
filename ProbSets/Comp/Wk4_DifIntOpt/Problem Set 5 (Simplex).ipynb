{
 "cells": [
  {
   "cell_type": "markdown",
   "metadata": {},
   "source": [
    "Problem 1-6\n",
    "======================"
   ]
  },
  {
   "cell_type": "code",
   "execution_count": 2,
   "metadata": {
    "collapsed": true
   },
   "outputs": [],
   "source": [
    "import numpy as np\n",
    "import collections"
   ]
  },
  {
   "cell_type": "code",
   "execution_count": 26,
   "metadata": {},
   "outputs": [
    {
     "name": "stdout",
     "output_type": "stream",
     "text": [
      "[2 0 1 3 4]\n",
      "(5.2014781547714515, OrderedDict([(0, 1.601109130981021), (1, 0.19907538091419413), (2, 0.59796624993317304)]), OrderedDict([(3, 0), (4, 0)]))\n"
     ]
    }
   ],
   "source": [
    "class simplex(object):\n",
    "    \n",
    "    def __init__(self, c, A, b):\n",
    "        self.c = c\n",
    "        self.A = A\n",
    "        self.b = b\n",
    "        self.m = len(self.b)\n",
    "        \n",
    "        #Instantiate index list\n",
    "        self.index = np.arange(0, len(self.c) + len(self.b))\n",
    "        self.n = len(self.index) \n",
    "        self.x = np.ones(len(self.index))\n",
    "        \n",
    "        for i in range (0, len(self.c)):\n",
    "            self.x[i] = 0\n",
    "        \n",
    "        self.show0 = np.where(self.x == 0)\n",
    "        self.show1 = np.where(self.x != 0)\n",
    "        self.bi = self.index[[self.show0]]\n",
    "        self.nbi = self.index[[self.show1]]\n",
    "        self.index = np.append(self.nbi, self.bi)\n",
    "        \n",
    "        \n",
    "        #self.check = self.A @ np.zeros(len(self.c))\n",
    "        \n",
    "        #for i in range (0, len(self.b)):\n",
    "            #if self.check[i] > self.b[i]:\n",
    "                #raise ValueError(\"Problem not feasible at origin\")\n",
    "        \n",
    "        self.h = 0\n",
    "        self.h1 = 0\n",
    "        self.prow = 1\n",
    "        self.pcol = 1\n",
    "        self.enter = 0\n",
    "        self.leave = 0\n",
    "        self.Tratio = -1\n",
    "        self.Tratiomin = 50000\n",
    "        self.finalx = np.zeros((self.m + self.n))\n",
    "        \n",
    "        #Instantiate dictionaries \n",
    "        self.bsolved = {}\n",
    "        self.nbsolved = {}\n",
    "        self.bsolved1 = {}\n",
    "        self.nbsolved1 = {}\n",
    "        \n",
    "    def update(self, ):\n",
    "        self.basic = self.index[:len(self.b)]\n",
    "        self.nonbasic = self.index[len(self.b):]\n",
    "\n",
    "    def tableau(self):\n",
    "        #Instantiate tableau\n",
    "        self.tab = np.array((self.m + 1, 2 + self.n + self.n))\n",
    "        self.zero = np.array((0))\n",
    "        self.block1 = np.hstack((self.zero, self.b)).reshape(self.m + 1,1)\n",
    "        self.zerov1 = np.zeros((self.m))\n",
    "        self.cbar = - np.hstack((self.c, self.zerov1))\n",
    "        self.Abar = np.hstack ((self.A, np.eye((self.m))))\n",
    "        self.block2 = np.vstack((self.cbar, self.Abar))\n",
    "        self.one = np.array((1))\n",
    "        self.zerov2 = np.zeros((self.m))\n",
    "        self.block3 = np.hstack((self.one, self.zerov2)).reshape(self.m + 1,1)\n",
    "        self.tab = np.hstack((self.block1, self.block2, self.block3))\n",
    "        \n",
    "        \n",
    "    def pivot(self):\n",
    "        \n",
    "        for i in range (1, np.shape(self.tab)[1]):\n",
    "            if self.tab[0][i] < 0:\n",
    "                self.pcol = i \n",
    "                break\n",
    "        self.enter = i - 1\n",
    "        \n",
    "        if np.all(self.tab[1:,self.pcol] < 0):\n",
    "            raise ValueError (\"No solution\")\n",
    "        \n",
    "        for j in range(1, np.shape(self.tab)[0]):\n",
    "            \n",
    "            if self.tab[j, self.pcol] > 0:\n",
    "                self.Tratio = float(self.tab[j][0] / self.tab[j][self.pcol])\n",
    "                \n",
    "                if self.Tratiomin > self.Tratio: \n",
    "                    self.Tratiomin = self.Tratio\n",
    "                    self.Tmin_index = j\n",
    "                    self.prow = j \n",
    "                    self.leave = self.index[j - 1]\n",
    "                \n",
    "                #check this if necessary\n",
    "                elif self.Tratiomin == self.Tratio:\n",
    "                    if self.leave > self.index[j]:\n",
    "                        self.prow = j \n",
    "                        self.leave = self.index[j - 1]\n",
    "\n",
    "        #self.prow +=1\n",
    "        #self.pcol +=1\n",
    "    \n",
    "    def rowop(self):\n",
    "        \n",
    "        #Check boundedness in previous method\n",
    "        \n",
    "        self.tab[self.prow][:]  = self.tab[self.prow][:] / self.tab[self.prow][self.pcol] + 0.001\n",
    "        \n",
    "        for i in range (0, np.shape(self.tab)[0]):\n",
    "            \n",
    "            if i != self.prow:\n",
    "                \n",
    "                self.tab[i][:] =  self.tab[i][:] - (self.tab[i][self.pcol]) * self.tab[self.prow][:]\n",
    "        \n",
    "    def solve(self):\n",
    "        \n",
    "        self.tableau()\n",
    "        \n",
    "        while np.any(self.tab[0][:] < 0 ):\n",
    "            self.pivot()\n",
    "            self.h = np.where(self.index == self.enter)\n",
    "            self.h1 = np.where(self.index == self.leave)\n",
    "            self.index[self.h1], self.index[self.h] = self.index[self.h], self.index[self.h1]\n",
    "            self.rowop()\n",
    "        \n",
    "        print(self.index)\n",
    "        \n",
    "        #Make dict\n",
    "        self.bsolved = {}\n",
    "        self.nbsolved = {}\n",
    "        \n",
    "        for i in range (0, self.m):\n",
    "            self.bsolved1 = {self.index[i] : self.tab[i+1][0]}\n",
    "            self.bsolved = {**self.bsolved, **self.bsolved1}\n",
    "        \n",
    "        for j in range (i + 1, self.n):\n",
    "            self.nbsolved1 = {self.index[j] : 0}\n",
    "            self.nbsolved = {**self.nbsolved, **self.nbsolved1}        \n",
    "        \n",
    "        self.bsolved = collections.OrderedDict(sorted((self.bsolved).items()))\n",
    "        \n",
    "        self.nbsolved = collections.OrderedDict(sorted((self.nbsolved).items()))\n",
    "        \n",
    "        return self.tab[0][0], self.bsolved, self.nbsolved\n",
    "        \n",
    "#Test functions\n",
    "        \n",
    "c = np.array([3, 2])\n",
    "A = np.array(([1, -1], [3, 1], [4,3]))\n",
    "b = np.array([2, 5, 7])\n",
    "\n",
    "calc = simplex(c, A, b)\n",
    "print(calc.solve())"
   ]
  },
  {
   "cell_type": "markdown",
   "metadata": {},
   "source": [
    "Problem 7\n",
    "============"
   ]
  },
  {
   "cell_type": "code",
   "execution_count": 27,
   "metadata": {},
   "outputs": [
    {
     "name": "stdout",
     "output_type": "stream",
     "text": [
      "[ 4  2  6  5  8  9 10  1  7  0  3]\n",
      "(7490.5469132727012, OrderedDict([(2, 9.9711509840280232), (4, -0.16362891875814967), (5, 7.7142119667842053), (6, 1.0172076604646918), (8, 12.285788033215795), (9, -0.1425393308600178), (10, 10.0)]), OrderedDict([(0, 0), (1, 0), (3, 0), (7, 0)]))\n"
     ]
    }
   ],
   "source": [
    "#filename = '/Users/bryanchia/Desktop/BootCamp2017/ProbSets/Comp/Wk4_DifIntOpt/productMix.npz'\n",
    "filename = '/Users/bryanchia/Desktop/productMix.npz'\n",
    "\n",
    "data = np.load(filename)\n",
    "A = data['A']\n",
    "p = data['p']\n",
    "m = data['m']\n",
    "d = data['d']\n",
    "\n",
    "A = np.vstack((A, np.eye(A.shape[1])))\n",
    "b = np.concatenate((m,d))\n",
    "prodmix = simplex(p, A, b)\n",
    "\n",
    "print(prodmix.solve())"
   ]
  },
  {
   "cell_type": "code",
   "execution_count": null,
   "metadata": {
    "collapsed": true
   },
   "outputs": [],
   "source": []
  }
 ],
 "metadata": {
  "kernelspec": {
   "display_name": "Python 3",
   "language": "python",
   "name": "python3"
  },
  "language_info": {
   "codemirror_mode": {
    "name": "ipython",
    "version": 3
   },
   "file_extension": ".py",
   "mimetype": "text/x-python",
   "name": "python",
   "nbconvert_exporter": "python",
   "pygments_lexer": "ipython3",
   "version": "3.6.1"
  }
 },
 "nbformat": 4,
 "nbformat_minor": 2
}
