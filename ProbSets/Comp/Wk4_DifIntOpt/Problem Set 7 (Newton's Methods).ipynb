{
 "cells": [
  {
   "cell_type": "code",
   "execution_count": 20,
   "metadata": {
    "collapsed": true
   },
   "outputs": [],
   "source": [
    "import numpy as np\n",
    "import scipy as sy\n",
    "from scipy.misc import derivative\n",
    "import quantecon as qe\n",
    "import sympy as sp\n",
    "from matplotlib import pyplot as plt\n",
    "from autograd import grad\n",
    "import autograd.numpy as anp\n",
    "import numpy.linalg as la"
   ]
  },
  {
   "cell_type": "markdown",
   "metadata": {},
   "source": [
    "Problem 1\n",
    "========="
   ]
  },
  {
   "cell_type": "code",
   "execution_count": 60,
   "metadata": {},
   "outputs": [
    {
     "name": "stdout",
     "output_type": "stream",
     "text": [
      "Root = 0.69314718056 , Iterations = 3 Success = True\n",
      "Root = 1.3160740129543826 , Iterations = 4 Success = True\n",
      "7.362999099314038e-13\n"
     ]
    }
   ],
   "source": [
    "def g(x):\n",
    "    return np.exp(x) - 2\n",
    "\n",
    "def dg(x):\n",
    "    return np.exp(x)\n",
    "\n",
    "def r(x):\n",
    "    return x ** 4 - 3\n",
    "\n",
    "def dr(x):\n",
    "    return 4 * x **3\n",
    "\n",
    "def newton(g, dg, x0, maxiters, epsilon = 1e-5):\n",
    "    \n",
    "    x1 = 0\n",
    "    diff = 15 \n",
    "    success = \"False\"\n",
    "    \n",
    "    for k in range(maxiters):\n",
    " \n",
    "        x1 = x0 - (g(x0)/dg(x0))\n",
    "        diff = abs(x1 - x0)\n",
    "        if ( diff < epsilon ):\n",
    "            success = \"True\"\n",
    "            break\n",
    "        x0 = x1\n",
    "\n",
    "    return x1, k, success\n",
    "\n",
    "x0 = 1\n",
    "maxiters = 3000\n",
    "x1, k, success = newton(g, dg, x0, maxiters)\n",
    "x11, k1, success1 = newton(r, dr, x0, maxiters)\n",
    "\n",
    "print('Root =', x1,', Iterations =', k, 'Success =', success)\n",
    "print('Root =', x11,', Iterations =', k1, 'Success =', success1)\n",
    "\n",
    "print(r(1.3160740129525732))"
   ]
  },
  {
   "cell_type": "markdown",
   "metadata": {},
   "source": [
    "Problem 2\n",
    "========="
   ]
  },
  {
   "cell_type": "code",
   "execution_count": 3,
   "metadata": {},
   "outputs": [
    {
     "name": "stdout",
     "output_type": "stream",
     "text": [
      "0.03877843223027751 5 True\n"
     ]
    }
   ],
   "source": [
    "def h(p1, p2, n1, n2, r):\n",
    "    return (p1 * ((1+r) ** n1)) - p1 - p2 + (p2 * ((1+r) ** (- (n2))))\n",
    "\n",
    "def dh(p1, p2, n1, n2, r):\n",
    "    return n1 * p1 * (1+r) **(n1 - 1) + p2 * (-n2) * (1+r) ** (-n2 - 1)\n",
    "\n",
    "def ir(g, dg, n1, n2, p1, p2, r0):\n",
    "    \n",
    "    x1 = 0\n",
    "    diff = 15 \n",
    "    success = \"False\"\n",
    "    \n",
    "    for k in range(1000):\n",
    " \n",
    "        r1 = r0 - (g(p1, p2, n1, n2, r0)/dg(p1, p2, n1, n2, r0))\n",
    "        if ( abs(r1  - r0) < 1e-5):\n",
    "            success = \"True\"\n",
    "            break\n",
    "        r0 = r1\n",
    "\n",
    "    return r1, k, success\n",
    "\n",
    "n1 = 30\n",
    "n2 = 20\n",
    "p1 = 2000\n",
    "p2 = 8000\n",
    "r0 = 0.1\n",
    "r1, k, success = ir(h, dh, n1, n2, p1, p2, r0)\n",
    "\n",
    "print(r1, k, success)"
   ]
  },
  {
   "cell_type": "markdown",
   "metadata": {},
   "source": [
    "Problem 3\n",
    "============="
   ]
  },
  {
   "cell_type": "code",
   "execution_count": 15,
   "metadata": {},
   "outputs": [
    {
     "name": "stdout",
     "output_type": "stream",
     "text": [
      "Root = 0.0004000000000000019 , Iterations = 1 Success = True\n"
     ]
    }
   ],
   "source": [
    "func = lambda x: float(np.sign(x) * np.power(np.abs(x), 1./3))\n",
    "#dfunc = lambda x: float( (1./3) * np.sign(x) * np.power(np.abs(x), - 2./3))\n",
    "#dfunc2 = grad(func)\n",
    "dfunc = lambda x: (1 / 3) * (x**2) ** (-1/3)\n",
    "\n",
    "def newton_bs(func, dfunc, x0, maxiters, alpha, epsilon = 0.01):\n",
    "    \n",
    "    x1 = 1\n",
    "    diff = 15 \n",
    "    success = \"False\"\n",
    "    \n",
    "    for k in range(maxiters):\n",
    "        \n",
    "        if dfunc(x0) == 0:\n",
    "            x1 = 0\n",
    "            success = \"Cannot run Newton's Method\"\n",
    "            break\n",
    "        \n",
    "        else: \n",
    "            x1 = x0 - (alpha * (func(x0)/ dfunc(x0))) # sy.misc.derivative(func, x0)))#dfunc(x0)))\n",
    "            diff = abs(x1 - x0)\n",
    "            if ( diff < epsilon ):\n",
    "                success = \"True\"\n",
    "                break\n",
    "            x0 = x1\n",
    "\n",
    "    return x1, k, success\n",
    "\n",
    "x0 = 0.01\n",
    "maxiters = 10000\n",
    "alpha = 0.4\n",
    "x1, k, success = newton_bs(func, dfunc, x0, maxiters, alpha)\n",
    "\n",
    "print('Root =', x1,', Iterations =', k, 'Success =', success)\n",
    "\n",
    "# Consider Autograd?"
   ]
  },
  {
   "cell_type": "markdown",
   "metadata": {},
   "source": [
    "Problem 4\n",
    "==============="
   ]
  },
  {
   "cell_type": "code",
   "execution_count": 17,
   "metadata": {},
   "outputs": [
    {
     "data": {
      "image/png": "[encoded data removed]",
      "text/plain": [
       "<matplotlib.figure.Figure at 0x11d9a94e0>"
      ]
     },
     "metadata": {},
     "output_type": "display_data"
    }
   ],
   "source": [
    "def newton_bs_alpha(func, dfunc, x0, alphavec, maxiters, epsilon = 0.01):\n",
    "    \n",
    "    x1 = 0\n",
    "    diff = 15 \n",
    "    success = \"False\"\n",
    "    kvec = np.empty(len(alphavec))\n",
    "    \n",
    "    for i in range(len(alphavec)):\n",
    "        \n",
    "        for k in range(maxiters):\n",
    "        \n",
    "            #if dfunc(x0) == 0:\n",
    "                #x1 = 0\n",
    "                #success = \"True\"\n",
    "                #break\n",
    "                \n",
    "        \n",
    "            #else: \n",
    "            x1 = x0 - (alphavec[i] * (func(x0)/ dfunc(x0)))\n",
    "            diff = abs(x1 - x0)\n",
    "                \n",
    "            if ( diff < epsilon ):\n",
    "                success = \"True\"\n",
    "                break\n",
    "            x0 = x1\n",
    "                \n",
    "        kvec[i] = k \n",
    "\n",
    "    return kvec\n",
    "\n",
    "x0 = 0.01\n",
    "alphavec = np.linspace(0, 1, 30)\n",
    "kvec = np.empty(len(alphavec))\n",
    "maxiters = 100000\n",
    "\n",
    "kvec = newton_bs_alpha(func, dfunc, x0, alphavec, maxiters)\n",
    "plt.plot (alphavec, kvec)\n",
    "plt.xlabel('Alpha Values')\n",
    "plt.ylabel('Number of Iterations Required for Convergence')\n",
    "plt.show()"
   ]
  },
  {
   "cell_type": "markdown",
   "metadata": {},
   "source": [
    "Problem 5\n",
    "=============="
   ]
  },
  {
   "cell_type": "code",
   "execution_count": 36,
   "metadata": {},
   "outputs": [
    {
     "name": "stdout",
     "output_type": "stream",
     "text": [
      "Root = [ 0.03518437  0.0020862 ] , Iterations = 14 ,Success = True\n"
     ]
    }
   ],
   "source": [
    "from autograd import jacobian\n",
    "\n",
    "f5 = lambda x: anp.array([3 * x[0] **2, 5 * x[0] ** 3 + 3 *x[1] ])\n",
    "\n",
    "def get_jacob(func, x0):\n",
    "    jacobian_f = jacobian(func)\n",
    "    jac = jacobian_f(anp.array(x0))\n",
    "    return jac\n",
    "\n",
    "\n",
    "def newton_mv(func, x0, maxiters, alpha, dfunc = None,  epsilon = 0.01):\n",
    "    \n",
    "    if np.isscalar(x0) ==True:\n",
    "    \n",
    "        x1 = 1\n",
    "        diff = 15 \n",
    "        success = \"False\"\n",
    "    \n",
    "        for k in range(int(maxiters)):\n",
    "        \n",
    "            if dfunc(x0) == 0:\n",
    "                x1 = 0\n",
    "                success = \"Cannot run Newton's Method\"\n",
    "                break\n",
    "        \n",
    "            else: \n",
    "                x1 = x0 - (alpha * (func(x0)/ dfunc(x0)))\n",
    "                diff = abs(x1 - x0)\n",
    "                if ( diff < epsilon ):\n",
    "                    success = \"True\"\n",
    "                    break\n",
    "                x0 = x1\n",
    "            \n",
    "    else:\n",
    "        \n",
    "        x1 = np.ones(len(x0))\n",
    "        y = np.zeros(len(x0))\n",
    "        diff = 15 \n",
    "        success = \"False\"  \n",
    "    \n",
    "        for k in range(int(maxiters)):\n",
    "        \n",
    "            if np.all(dfunc(x0)) == 0:\n",
    "                x1 = 0\n",
    "                success = \"Cannot run Newton's Method\"\n",
    "                break\n",
    "        \n",
    "            else: \n",
    "                jac = get_jacob(func, x0)\n",
    "                y = la.solve(jac, func(x0))\n",
    "                x1 = x0 - alpha * y\n",
    "                diff = la.norm(x1 - x0)\n",
    "                if ( diff < epsilon ):\n",
    "                    success = \"True\"\n",
    "                    break\n",
    "                x0 = x1\n",
    "        \n",
    "    return x1, k, success\n",
    "\n",
    "x0 = np.array((1.0,1.0))\n",
    "maxiters = int(1000)\n",
    "alpha = 0.4\n",
    "x1, k, success = newton_mv(f5, x0, maxiters, alpha, dfunc)\n",
    "\n",
    "print('Root =', x1,', Iterations =', k, ',Success =', success)"
   ]
  },
  {
   "cell_type": "markdown",
   "metadata": {},
   "source": [
    "Problem 6\n",
    "============"
   ]
  },
  {
   "cell_type": "code",
   "execution_count": 116,
   "metadata": {},
   "outputs": [
    {
     "name": "stdout",
     "output_type": "stream",
     "text": [
      "Final root: [  9.89117927e-04  -9.99957241e-01]\n",
      "Final root: [  9.98160413e-04  -9.99956831e-01]\n",
      "Final root: [ -3.51244138e-08  -1.00000001e+00]\n",
      "('Converged to: ', array([ -1.50064910e-16,  -1.00000000e+00]), 'Initial point used:', array([-0.25     ,  0.0005005]))\n"
     ]
    }
   ],
   "source": [
    "f6 = lambda x: anp.array([(5 * x[0] * x[1]) - (x[0] * (1 + x[1])) , \\\n",
    "                         (- (x[0] * x[1])) + ((1 - x[1]) * (1 + x[1]))])\n",
    "\n",
    "def get_jacob(func, x0):\n",
    "    jacobian_f = jacobian(func)\n",
    "    jac = jacobian_f(anp.array(x0))\n",
    "    return jac\n",
    "\n",
    "def p6(func, xtrue, maxiters, alpha, epsilon = 0.001):\n",
    "    \n",
    "    tol = 1e-10\n",
    "    \n",
    "    x1 = np.array((0,0))\n",
    "    grid1 = np.linspace(-0.25, 0, 1000)\n",
    "    grid2 = np.linspace(0, 0.25, 1000)\n",
    "    success = \"False\"\n",
    "    \n",
    "    for i in range (0, len(grid1)):\n",
    "        \n",
    "        for j in range (0, len(grid2)):\n",
    "            \n",
    "            if success == \"False\":\n",
    "            \n",
    "                x0 = np.array((grid1[i], grid2[j]))\n",
    "        \n",
    "                for k in range(int(maxiters)):\n",
    "        \n",
    "                    jac = get_jacob(func, x0)\n",
    "                    y = la.solve(jac, func(x0))\n",
    "                    x1 = x0 - alpha * y\n",
    "                    diff = la.norm(x1 - x0)\n",
    "                    if ( diff < epsilon ):\n",
    "                        print(\"Final root:\", x0)\n",
    "                        break\n",
    "                        \n",
    "                    x0 = x1\n",
    "            \n",
    "                error = abs(x1 - xtrue)\n",
    "            \n",
    "                if np.all(error < tol):\n",
    "                    success = \"True\"\n",
    "                    initial_pt = np.array((grid1[i], grid2[j]))\n",
    "    \n",
    "    return x1, initial_pt\n",
    "\n",
    "xtrue = np.array((0, -1))\n",
    "maxiters = int(1000)\n",
    "alpha = 1\n",
    "x1, initial1 = p6(f6, xtrue, maxiters, alpha)\n",
    "print(('Converged to: ', x1, \"Initial point used:\", initial1))\n",
    "\n",
    "#xtrue = np.array((0.00111, -1))\n",
    "#maxiters = int(1000)\n",
    "#alpha = 0.55\n",
    "#x2, initia2 = p6(f6, xtrue, maxiters, alpha)\n",
    "#print(('Converged to: ', x2, \"Initial point used:\", initial2))"
   ]
  },
  {
   "cell_type": "markdown",
   "metadata": {},
   "source": [
    "Problem 7\n",
    "==============="
   ]
  },
  {
   "cell_type": "code",
   "execution_count": 184,
   "metadata": {},
   "outputs": [
    {
     "data": {
      "image/png": "[encoded data removed]",
      "text/plain": [
       "<matplotlib.figure.Figure at 0x11e5171d0>"
      ]
     },
     "metadata": {},
     "output_type": "display_data"
    },
    {
     "data": {
      "image/png": "[encoded data removed]",
      "text/plain": [
       "<matplotlib.figure.Figure at 0x122c2a550>"
      ]
     },
     "metadata": {},
     "output_type": "display_data"
    }
   ],
   "source": [
    "f = lambda x: x**3 - 1\n",
    "Df = lambda x: 3*x**2\n",
    "\n",
    "f1 = lambda x: x**3 - x\n",
    "Df1 = lambda x: 3*(x**2) - 1\n",
    "\n",
    "def f8(f, df, roots, bounds, res, iters):\n",
    "    \n",
    "    rmin, rmax, imin, imax = bounds\n",
    "    \n",
    "    x_real = np.linspace(rmin, rmax, res) # Real parts.\n",
    "    x_imag = np.linspace(imin, imax, res) # Imaginary parts.\n",
    "    X_real, X_imag = np.meshgrid(x_real, x_imag)\n",
    "    X_0 = X_real + 1j*X_imag # Combine real and imaginary parts.  \n",
    "    \n",
    "    for k in range(iters):\n",
    "        X_1 = X_0 - f(X_0)/Df(X_0)\n",
    "        X_0 = X_1\n",
    "    \n",
    "    Y = np.empty((res, res))\n",
    "    \n",
    "    #index = np.arange(0, len(roots))\n",
    "    diff = np.arange(0, len(roots))\n",
    "    #print(roots)\n",
    "    for i in range (0, res):\n",
    "        for j in range (0, res):\n",
    "    #Y = np.vectorize(lambda x:np.argmin(np.abs(roots-x)))(X_1)        \n",
    "            diff = np.abs (X_0[i][j]  - roots)\n",
    "            Y[i][j] = np.argmin(np.abs(X_0[i][j]  - roots))\n",
    "    #print(X_0)\n",
    "    #print(Y)\n",
    "    plt.pcolormesh(x_real, x_imag, Y, cmap=\"brg\")\n",
    "    plt.colorbar()\n",
    "    plt.show()\n",
    "    \n",
    "    return\n",
    "\n",
    "bounds = np.array ([-1.5, 1.5, -1.5, 1.5])\n",
    "res = 200\n",
    "iters = 20\n",
    "roots = np.array((1, -0.5+((np.sqrt(3) * 1j) /2), -0.5-((np.sqrt(3) * 1j) /2) ))\n",
    "f8(f, Df, roots, bounds, res, iters)\n",
    "roots1 = np.array ([1, -1, 1])\n",
    "f8(f1, Df1, roots1, bounds, res, iters)"
   ]
  },
  {
   "cell_type": "code",
   "execution_count": null,
   "metadata": {
    "collapsed": true
   },
   "outputs": [],
   "source": []
  }
 ],
 "metadata": {
  "kernelspec": {
   "display_name": "Python 3",
   "language": "python",
   "name": "python3"
  },
  "language_info": {
   "codemirror_mode": {
    "name": "ipython",
    "version": 3
   },
   "file_extension": ".py",
   "mimetype": "text/x-python",
   "name": "python",
   "nbconvert_exporter": "python",
   "pygments_lexer": "ipython3",
   "version": "3.6.1"
  }
 },
 "nbformat": 4,
 "nbformat_minor": 2
}
