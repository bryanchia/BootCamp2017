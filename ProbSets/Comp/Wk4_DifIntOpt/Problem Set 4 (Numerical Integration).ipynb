{
 "cells": [
  {
   "cell_type": "markdown",
   "metadata": {},
   "source": [
    "Problem 1\n",
    "======================"
   ]
  },
  {
   "cell_type": "code",
   "execution_count": 94,
   "metadata": {
    "collapsed": true
   },
   "outputs": [],
   "source": [
    "import numpy as np\n",
    "import scipy as sp"
   ]
  },
  {
   "cell_type": "code",
   "execution_count": 89,
   "metadata": {},
   "outputs": [
    {
     "name": "stdout",
     "output_type": "stream",
     "text": [
      "Value for Midpoint Method: 4374.18512164\n",
      "Value for Midpoint Method: 4374.18545734\n",
      "Value for Midpoint Method: [ 4373.39861349]\n"
     ]
    }
   ],
   "source": [
    "def integrate(g, bounds, N, method ):\n",
    "    a, b = bounds\n",
    "\n",
    "    if method == \"midpoint\":\n",
    "        x = np.empty((N))\n",
    "        y = np.empty((N))\n",
    "       \n",
    "        for i in range (0, N):\n",
    "            x[i] = a + (((2 * i + 1) * (b - a)) / (2 * N))\n",
    "        y = g(x)\n",
    "        value = ((b - a) / N) * np.sum(y[0:N-1])\n",
    "    \n",
    "    if method == \"trapezoid\":\n",
    "        x = np.empty((N + 1))\n",
    "        y = np.empty((N + 1))\n",
    "        for i in range (0, N + 1):\n",
    "            x[i] = a + ((i * (b - a)) /(N))\n",
    "        y = g(x)\n",
    "        value =  ( (b - a) / (2 * N)) * (g(x[0]) + 2 * np.sum(y[1:N - 1]) + g(x[N]))\n",
    "\n",
    "    if method == \"Simpsons\":\n",
    "        x = np.empty((2 * N + 1))\n",
    "        y = np.empty((2 * N + 1))\n",
    "        for i in range (0, 2 * N + 1):\n",
    "            x[i] = a + ((i * (b - a)) / (2 * N))\n",
    "        y = g(x)\n",
    "        y0 = y[0]\n",
    "        y = y[1:]\n",
    "        y = y.reshape(int(N), 2)\n",
    "        yodd, yeven = np.hsplit(y, 2)\n",
    "        value = ( (b - a) / (3 * (2 * N + 1)) ) * \\\n",
    "        (y0 + 2 * np.sum(yeven[:(N-2)]) + 4 * np.sum(yodd) + yeven[N-1])\n",
    "    \n",
    "    return value\n",
    "\n",
    "def g(x):\n",
    "    return 0.1 * x ** 4 - 1.5 * x ** 3 + 0.53 * x ** 2 + 2 * x + 1\n",
    "\n",
    "bounds = np.array((-10,10))\n",
    "N = 10000\n",
    "value_mid = integrate(g, bounds, N, 'midpoint')\n",
    "value_trap = integrate(g, bounds, N, 'trapezoid')\n",
    "value_simp = integrate(g, bounds, N, 'Simpsons')\n",
    "\n",
    "print(\"Value for Midpoint Method:\", value_mid)\n",
    "print(\"Value for Midpoint Method:\", value_trap)\n",
    "print(\"Value for Midpoint Method:\", value_simp)"
   ]
  },
  {
   "cell_type": "markdown",
   "metadata": {},
   "source": [
    "Problem 2\n",
    "======================"
   ]
  },
  {
   "cell_type": "code",
   "execution_count": 157,
   "metadata": {},
   "outputs": [
    {
     "name": "stdout",
     "output_type": "stream",
     "text": [
      "[-3.  -2.4 -1.8 -1.2 -0.6  0.   0.6  1.2  1.8  2.4  3. ] [ 0.00346697  0.01439745  0.04894278  0.11725292  0.19802845  0.23582284\n",
      "  0.19802845  0.11725292  0.04894278  0.01439745  0.00346697]\n",
      "1.0\n",
      "(11,)\n"
     ]
    }
   ],
   "source": [
    "from scipy.stats import norm\n",
    "\n",
    "def newton(mu, s, N, k):\n",
    "    \n",
    "    Z = np.linspace( mu - k * s, mu + k * s, N)\n",
    "    weights = np.empty_like(Z)\n",
    "    \n",
    "    for j in range (0, N):\n",
    "        \n",
    "        if j == 0:\n",
    "            weights[j] = norm.cdf((Z[0] + Z[1]) / 2, mu, s)\n",
    "        \n",
    "        elif j == N - 1:\n",
    "            w = 1 - norm.cdf((Z[N - 1] + Z[N - 2]) / 2, mu, s)\n",
    "            if w == np.inf:\n",
    "                weights[j] = 0\n",
    "            else:\n",
    "                weights[j] = w\n",
    "        else:\n",
    "            weights[j] = norm.cdf((Z[j] + Z[j + 1]) / 2, mu, s) - norm.cdf((Z[j - 1] + Z[j]) / 2, mu, s)\n",
    "        \n",
    "    return Z, weights \n",
    "\n",
    "Z, weights = newton(0, 1, 11, 3)\n",
    "\n",
    "print(Z, weights)\n",
    "print(np.sum(weights))\n"
   ]
  },
  {
   "cell_type": "markdown",
   "metadata": {},
   "source": [
    "Problem 3\n",
    "======================"
   ]
  },
  {
   "cell_type": "code",
   "execution_count": 179,
   "metadata": {},
   "outputs": [
    {
     "name": "stdout",
     "output_type": "stream",
     "text": [
      "[[ 1.66394095]]\n"
     ]
    }
   ],
   "source": [
    "def lognormal(mu, s, N, k):\n",
    "\n",
    "    Z, weights = newton(mu, s, N, k)\n",
    "    \n",
    "    approximation = weights.reshape(1,N) @ (np.exp(Z).reshape(N,1))\n",
    "    \n",
    "    return approximation\n",
    "\n",
    "approx = lognormal(0, 1, 11, 3)\n",
    "print(approx)\n"
   ]
  },
  {
   "cell_type": "markdown",
   "metadata": {},
   "source": [
    "Problem 4\n",
    "======================"
   ]
  },
  {
   "cell_type": "code",
   "execution_count": 197,
   "metadata": {},
   "outputs": [
    {
     "name": "stdout",
     "output_type": "stream",
     "text": [
      "My mean:  [[ 50011.27880633]]\n",
      "Exact value:  50011.0870085\n"
     ]
    }
   ],
   "source": [
    "def lognormal_mean(mu, s, N, k):\n",
    "\n",
    "    Z, weights = newton(mu, s, N, k)\n",
    "    \n",
    "    approximation = weights.reshape(1,N) @ np.multiply((np.exp(Z).reshape(N,1)), Z.reshape(N,1))\n",
    "    \n",
    "    return approximation\n",
    "\n",
    "mean = lognormal(10.5, 0.8, 1000, 6)\n",
    "\n",
    "print(\"My mean: \", mean)\n",
    "\n",
    "print(\"Exact value: \", np.exp(10.5 + ((0.8 ** 2) / 2)))"
   ]
  },
  {
   "cell_type": "markdown",
   "metadata": {},
   "source": [
    "Problem 5\n",
    "======================"
   ]
  },
  {
   "cell_type": "code",
   "execution_count": 233,
   "metadata": {},
   "outputs": [
    {
     "name": "stdout",
     "output_type": "stream",
     "text": [
      "[  8.88888889e+00   5.55555556e+00   5.55555555e+00  -2.03170561e-09\n",
      "  -7.74596669e+00   7.74596669e+00]\n",
      "[ 4373.33333379]\n"
     ]
    }
   ],
   "source": [
    "def g(x):\n",
    "    return 0.1 * x ** 4 - 1.5 * x ** 3 + 0.53 * x ** 2 + 2 * x + 1\n",
    "\n",
    "bounds = np.array((-10,10))\n",
    "a, b = bounds \n",
    "\n",
    "x0 = lambda x: 1\n",
    "constant = sp.integrate.quad(x0, a, b)[0]\n",
    "x1 = lambda x: x\n",
    "first = sp.integrate.quad(x1, a, b)[0]\n",
    "x2 = lambda x: x**2\n",
    "second = sp.integrate.quad(x2, a, b)[0]\n",
    "x3 = lambda x: x**3\n",
    "third = sp.integrate.quad(x3, a, b)[0]\n",
    "fourth = sp.integrate.quad(x4, a, b)[0]\n",
    "x5 = lambda x: x**5\n",
    "fifth = sp.integrate.quad(x5, a, b)[0]\n",
    "\n",
    "initial = np.random.rand((6))\n",
    "#w0, w1, w2, x0, x1, x2 = initial\n",
    "\n",
    "def system(s):\n",
    "    return [ s[0] + s[1] + s[2] - constant, s[0]*s[3] + s[1] *s[4] + s[2]*s[5] - first,\\\n",
    "            s[0]*s[3]**2 + s[1] *s[4]**2 + s[2]*s[5]**2 - second,\\\n",
    "           s[0]*s[3]**3 + s[1] *s[4]**3 + s[2]*s[5]**3 - third,\\\n",
    "           s[0]*s[3]**4 + s[1] *s[4]**4 + s[2]*s[5]**4 - fourth,\\\n",
    "           s[0]*s[3]**5 + s[1] *s[4]**5 + s[2]*s[5]**5 - fifth]\n",
    "\n",
    "sol = sp.optimize.root(system, initial)\n",
    "\n",
    "w0, w1, w2, x0, x1, x2 = sol.x\n",
    "\n",
    "print(sol.x)\n",
    "\n",
    "w = sol.x[:3]\n",
    "z = sol.x[3:]\n",
    "\n",
    "integral = w @ (g(z)).reshape(3,1)\n",
    "print(integral)"
   ]
  },
  {
   "cell_type": "markdown",
   "metadata": {},
   "source": [
    "Problem 6\n",
    "======================"
   ]
  },
  {
   "cell_type": "code",
   "execution_count": 235,
   "metadata": {},
   "outputs": [
    {
     "name": "stdout",
     "output_type": "stream",
     "text": [
      "4373.333333333334\n"
     ]
    }
   ],
   "source": [
    "value = sp.integrate.quad(g, a, b)\n",
    "print(value[0])"
   ]
  },
  {
   "cell_type": "markdown",
   "metadata": {},
   "source": [
    "Scipy's function is exact, and the Gaussian is close, but the other methods are a little further away. \n",
    "\n",
    "Problem 7\n",
    "======================"
   ]
  },
  {
   "cell_type": "code",
   "execution_count": 255,
   "metadata": {},
   "outputs": [
    {
     "name": "stdout",
     "output_type": "stream",
     "text": [
      "pi =  3.1415912\n"
     ]
    }
   ],
   "source": [
    "from numba import jit\n",
    "import inspect\n",
    "from numpy import interp\n",
    "\n",
    "@jit\n",
    "def g7(points):\n",
    "    x, y = points\n",
    "    v = np.empty_like(x)\n",
    "    e = x ** 2 + y ** 2\n",
    "    \n",
    "    for i in range (0, len(e)):\n",
    "    \n",
    "        if e[i] <= 1:\n",
    "            v[i] = 1.0\n",
    "        else:\n",
    "            v[i] = 0.0\n",
    "    return v\n",
    "    \n",
    "\n",
    "def pi(g7, dom, N):\n",
    "    \n",
    "    xl, xu, yl, yu = dom\n",
    "    \n",
    "    x = np.random.uniform(xl, xu, N)\n",
    "    y = np.random.uniform(yl, yu, N)\n",
    "    points = np.vstack((x, y))\n",
    "    \n",
    "    values = g7(points)\n",
    "    \n",
    "    pi = (((yu - yl) * (xu - xl)) / N ) * np.sum(values)\n",
    "    \n",
    "    return pi\n",
    "\n",
    "print(\"pi = \", pi(g7, (-1, 1, -1, 1), 30000000))"
   ]
  },
  {
   "cell_type": "markdown",
   "metadata": {},
   "source": [
    "Took roughly 30 million iterations\n",
    "\n",
    "Problem 8\n",
    "======================"
   ]
  },
  {
   "cell_type": "code",
   "execution_count": 4,
   "metadata": {},
   "outputs": [
    {
     "name": "stdout",
     "output_type": "stream",
     "text": [
      "0.4641016151377544\n",
      "0.19615242270663202\n",
      "[[ 0.41421356  0.82842712]\n",
      " [ 0.58740105  0.1748021 ]]\n",
      "[[ 0.7781122   0.1671683 ]\n",
      " [ 0.17107385  0.25661077]]\n"
     ]
    }
   ],
   "source": [
    "import sympy as sp\n",
    "import math as m\n",
    "import numpy as np\n",
    "\n",
    "def Niederreiter(n, s):\n",
    "    seq = np.zeros((s, n))\n",
    "    for i in range(1, n + 1):\n",
    "        for j in range(1, s + 1):\n",
    "            seq[j - 1, i - 1] = ((i) * 2. ** ((j) / (j + 1.)) -\n",
    "                                 m.floor((i) * 2. **\n",
    "                                 ((j) / (j + 1.))))\n",
    "    return seq\n",
    "\n",
    "def Baker(n, s):\n",
    "    seq = np.zeros((s,n))\n",
    "    for i in range(1, n+1):\n",
    "        for j in range(1, s+1):\n",
    "            seq[j-1, i-1] = ((i+1)*np.exp(j + 1)) - m.floor((i + 1) *\n",
    "                    np.exp(j + 1))\n",
    "    return seq\n",
    "\n",
    "def sample(n, d, seq):\n",
    "    \n",
    "    p = sp.prime(d)\n",
    "    \n",
    "    if seq == 'weyl':\n",
    "        element = (n * p ** 0.5) - m.floor(n * p ** 0.5)\n",
    "        \n",
    "    elif seq == 'haber':\n",
    "        element = (((n * (n+1)) / 2) * p ** 0.5) - m.floor(((n * (n+1)) / 2) * p ** 0.5)\n",
    "        \n",
    "    elif seq == 'nied':\n",
    "        #element = (n * 2 ** ( d / (n + 1))) - m.floor(n * 2 ** ( d / (n + 1)))\n",
    "        element = Niederreiter(n, d)\n",
    "        \n",
    "    elif seq == 'baker':\n",
    "        element = Baker(n,d)\n",
    "        #element = (n * np.exp(p)) - m.floor(n * np.exp(p))\n",
    "    \n",
    "    else:\n",
    "        print ('Sequence type does not exist')\n",
    "    \n",
    "    return element\n",
    "\n",
    "print(sample(2, 2, 'weyl'))  \n",
    "print(sample(2, 2, 'haber'))  \n",
    "print(sample(2, 2, 'nied'))  \n",
    "print(sample(2, 2, 'baker'))  "
   ]
  },
  {
   "cell_type": "markdown",
   "metadata": {},
   "source": [
    "Problem 9\n",
    "==================="
   ]
  },
  {
   "cell_type": "code",
   "execution_count": 309,
   "metadata": {},
   "outputs": [
    {
     "name": "stdout",
     "output_type": "stream",
     "text": [
      "pi =  3.14159452055\n"
     ]
    }
   ],
   "source": [
    "@jit\n",
    "def g9(points):\n",
    "    x, y = points\n",
    "    v = np.empty_like(x)\n",
    "    e = x ** 2 + y ** 2\n",
    "    \n",
    "    for i in range (0, len(e)):\n",
    "    \n",
    "        if e[i] <= 1:\n",
    "            v[i] = 1.0\n",
    "        else:\n",
    "            v[i] = 0.0\n",
    "    return v\n",
    "\n",
    "@jit\n",
    "def loop(x, y, N):\n",
    "    \n",
    "    for i in range (0, N):\n",
    "        x[i] = sample(i + 1, 1, 'haber')\n",
    "        y[i] = sample(i + 1, 1, 'weyl')\n",
    "    \n",
    "    return x, y\n",
    "\n",
    "@jit\n",
    "def pi9(g7, dom, N):\n",
    "    \n",
    "    xl, xu, yl, yu = dom\n",
    "    \n",
    "    x = np.empty((N))\n",
    "    y = np.empty((N))\n",
    "    \n",
    "    x, y = loop(x, y, N)\n",
    "    \n",
    "    points = np.vstack((x, y))\n",
    "    values = g7(points)\n",
    "    \n",
    "    pi = (((yu - yl) * (xu - xl)) / N ) * np.sum(values)\n",
    "    \n",
    "    return pi\n",
    "\n",
    "print(\"pi = \", pi9(g9, (-1, 1, -1, 1), 2190000))"
   ]
  },
  {
   "cell_type": "markdown",
   "metadata": {},
   "source": [
    "It converged with roughly 2.2 million iterations."
   ]
  },
  {
   "cell_type": "code",
   "execution_count": null,
   "metadata": {
    "collapsed": true
   },
   "outputs": [],
   "source": []
  }
 ],
 "metadata": {
  "kernelspec": {
   "display_name": "Python 3",
   "language": "python",
   "name": "python3"
  },
  "language_info": {
   "codemirror_mode": {
    "name": "ipython",
    "version": 3
   },
   "file_extension": ".py",
   "mimetype": "text/x-python",
   "name": "python",
   "nbconvert_exporter": "python",
   "pygments_lexer": "ipython3",
   "version": "3.6.1"
  }
 },
 "nbformat": 4,
 "nbformat_minor": 2
}
