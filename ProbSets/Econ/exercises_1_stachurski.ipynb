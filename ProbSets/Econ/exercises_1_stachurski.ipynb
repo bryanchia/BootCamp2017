{
 "cells": [
  {
   "cell_type": "markdown",
   "metadata": {},
   "source": [
    "## Exercise Set 1 for OSM \n",
    "\n",
    "### Dynamic Programming with John Stachurski"
   ]
  },
  {
   "cell_type": "markdown",
   "metadata": {},
   "source": [
    "This notebook contains the first set of exercises for the [OSM](https://bfi.uchicago.edu/osm) bootcamp dynamic programming section.\n",
    "\n",
    "We will use the following libraries:"
   ]
  },
  {
   "cell_type": "code",
   "execution_count": 74,
   "metadata": {
    "collapsed": true
   },
   "outputs": [],
   "source": [
    "import numpy as np\n",
    "import matplotlib.pyplot as plt"
   ]
  },
  {
   "cell_type": "markdown",
   "metadata": {},
   "source": [
    "### Exercise 1\n",
    "\n",
    "Consider the data"
   ]
  },
  {
   "cell_type": "code",
   "execution_count": 49,
   "metadata": {
    "collapsed": true
   },
   "outputs": [],
   "source": [
    "A = [[0.6, 0.1, -0.3],\n",
    "     [0.5, -0.4, 0.2],\n",
    "     [1.0, -0.2, 1.1]]\n",
    "\n",
    "b = [12,10,-1]\n",
    "\n",
    "A, b = map(np.asarray, (A, b))"
   ]
  },
  {
   "cell_type": "markdown",
   "metadata": {
    "collapsed": true
   },
   "source": [
    "The equation $x = A x + b$ has a unique solution in $\\mathbb R^3$.  Show that this is true by checking the spectral radius condition."
   ]
  },
  {
   "cell_type": "code",
   "execution_count": 3,
   "metadata": {},
   "outputs": [
    {
     "name": "stdout",
     "output_type": "stream",
     "text": [
      "0.965538166352\n"
     ]
    }
   ],
   "source": [
    "from scipy.linalg import eigvals, solve\n",
    "evs = eigvals(A)\n",
    "ρ = max(abs(evs))\n",
    "print(ρ)\n",
    "\n",
    "#If the max eigenvalue is <1, then there is a unique solution"
   ]
  },
  {
   "cell_type": "markdown",
   "metadata": {},
   "source": [
    "Compute the solution using both successive approximations --- that is,\n",
    "\n",
    "$$ x_{t+1} = A x_t + b $$\n",
    "\n",
    "and matrix algebra."
   ]
  },
  {
   "cell_type": "code",
   "execution_count": 51,
   "metadata": {},
   "outputs": [
    {
     "name": "stdout",
     "output_type": "stream",
     "text": [
      "Successive Approximation Method:\n",
      "[ -0.89527045  13.34334374  45.64170355]\n",
      "Matrix Algebra Method:\n",
      "[ -0.89552239  13.34328358  45.64179104]\n"
     ]
    }
   ],
   "source": [
    "#Successive approximations \n",
    "\n",
    "x1 = np.ones(3)\n",
    "\n",
    "equal = False\n",
    "\n",
    "while (equal == False):\n",
    "    x2 = np.dot(A,x1) + b\n",
    "    if np.allclose(x1,x2):\n",
    "        equal = True\n",
    "    else:\n",
    "        x1 = x2\n",
    "\n",
    "print(\"Successive Approximation Method:\")\n",
    "print(x2)\n",
    "    \n",
    "#Matrix Algebra Method\n",
    "\n",
    "I = np.identity(3)\n",
    "x = np.linalg.inv(I-A)@b\n",
    "print(\"Matrix Algebra Method:\")\n",
    "print(x)"
   ]
  },
  {
   "cell_type": "markdown",
   "metadata": {},
   "source": [
    "### Exercise 2"
   ]
  },
  {
   "cell_type": "markdown",
   "metadata": {},
   "source": [
    "In a standard job search model, an agent \n",
    "\n",
    "\n",
    "* receives offer $w_t$ in period $t$ where $\\{w_t\\}$ is  iid\n",
    "* accepts this offer at time $t$ or remains unemployed\n",
    "    *  if remains unemployed, then receives compensation $c > 0$\n",
    "    * if accepts, then works indefinitely at this wage\n",
    "\n",
    "The agent discounts the future at rate $\\beta \\in (0, 1)$\n",
    "\n",
    "\n",
    "It can be shown that the following is an optimal strategy: \n",
    "\n",
    "* Set a reservation wage $\\bar w$\n",
    "* Accept the first offer $w_t$ such that $w_t \\geq \\bar w$\n",
    "\n",
    "\n",
    "It can also be shown (details omitted) that $\\bar w$ should satisfy\n",
    "\n",
    "$$\n",
    "    \\bar w\n",
    "    = c (1-\\beta) + \\beta\n",
    "    \\sum_{k=1}^K \\max \\left\\{\n",
    "        w_k ,\\, \\bar w\n",
    "    \\right\\}\n",
    "    \\, p_k\n",
    "$$\n",
    "\n",
    "Here \n",
    "\n",
    "* $w_1, \\ldots, w_K$ are the possible wage values, occuring with probabilities $p_1, \\ldots, p_K$\n",
    "* $c > 0$\n",
    "\n",
    "Does there always exists a $x \\in [0, \\infty)$ that solves the equation\n",
    "$$\n",
    "    x\n",
    "    = c (1-\\beta) + \\beta\n",
    "    \\sum_{k=1}^K \\max \\left\\{\n",
    "        w_k ,\\, x\n",
    "    \\right\\}\n",
    "    \\, p_k\n",
    "$$\n",
    "Is it unique?  Suggest a strategy for computing it"
   ]
  },
  {
   "cell_type": "markdown",
   "metadata": {},
   "source": [
    "#### Hints\n",
    "\n",
    "There are different ways to show this, but I found the following facts useful:\n",
    "\n",
    "*  If $x_1, \\ldots, x_K$ are any $K$ numbers, then\n",
    "\n",
    "$$ \\left| \\sum_{k=1}^K x_k \\right| \\leq \\sum_{k=1}^K |x_k| $$\n",
    "\n",
    "* For any $a, x, y$ in $\\mathbb R$, \n",
    "    \n",
    "$$ \n",
    "    \\left| \n",
    "            \\max \\left\\{ a,\\, x \\right\\} - \\max \\left\\{ a,\\, y \\right\\} \n",
    "        \\right|\n",
    "        \\leq | x - y |\n",
    "$$\n",
    "\n",
    "\n",
    "You can convince yourself of the second inequality by sketching and checking different cases..."
   ]
  },
  {
   "cell_type": "markdown",
   "metadata": {},
   "source": [
    "### Answer:\n",
    "\n",
    "To show existence of a solution, we want to show that that there exists a fixed point for the function on the right hand side of the equation. \n",
    "\n",
    "In order to show that there exists a fixed point, we want to use Banach's Fixed Point Theorem. We want to first show that the equation on the right is a contraction map. \n",
    "\n",
    "$$\\begin{align*}\\bigg| c(1-\\beta) + \\beta \\sum^{K}_{k=1} max\\{W_k,x\\}Pk - c(1-\\beta) - \\beta \\sum^{K}_{k=1} max\\{W_k,y\\}Pk \\bigg| &= \\beta \\bigg| \\sum^{K}_{k=1} max\\{W_k,x\\}Pk - \\sum^{K}_{k=1} max\\{W_k,y\\}Pk \\bigg| \\\\\n",
    "&= \\beta \\bigg| \\sum^{K}_{k=1} max\\{W_k,x\\} - max\\{W_k,y\\}Pk \\bigg|\\\\\n",
    "& \\leq \\beta  \\sum^{K}_{k=1}\\bigg| max\\{W_k,x\\} - max\\{W_k,y\\}\\bigg| * \\bigg|Pk \\bigg| \\\\\n",
    "& \\leq \\sum^{K}_{k=1} |x-y||P_k| \\\\\n",
    "& = \\beta |x-y| \\sum^{K}_{k=1} |P_k|\\\\ \n",
    "&= \\beta |x-y|\n",
    "\\end{align*}\n",
    "$$\n",
    "\n",
    "Since $\\beta<1$, this function is a contraction map. Also, any sequence is Cauchy meaning that the metric is complete. Thus, we have a unique fixed point. Since we have a fixed point, there exists a solution for the equation above.\n",
    "\n",
    "We can use a method of successive approximations like in exercise 1.\n"
   ]
  },
  {
   "cell_type": "markdown",
   "metadata": {},
   "source": [
    "### Exercise 3"
   ]
  },
  {
   "cell_type": "markdown",
   "metadata": {},
   "source": [
    "Let \n",
    "\n",
    "* $\\beta = 0.96$\n",
    "* $(w_1, w_2, w_3) = (0.5, 1.0, 1.5)$\n",
    "* $(p_1, p_2, p_3) = (0.2, 0.4, 0.4)$\n",
    "\n",
    "Compute and plot the reservation wage for unemployment compensation values"
   ]
  },
  {
   "cell_type": "code",
   "execution_count": 79,
   "metadata": {},
   "outputs": [
    {
     "data": {
      "image/png": "[encoded data removed]",
      "text/plain": [
       "<matplotlib.figure.Figure at 0x114796898>"
      ]
     },
     "metadata": {},
     "output_type": "display_data"
    }
   ],
   "source": [
    "c_vals = np.linspace(1, 2, 100)\n",
    "\n",
    "w = 15\n",
    "b = 0.96\n",
    "wage_array = np.array([0.5, 1.0, 1.5])\n",
    "prob_array = np.array([0.2, 0.4, 0.4])\n",
    "\n",
    "w_vals = np.zeros(100)\n",
    "    \n",
    "for i in range (0, len(c_vals)):\n",
    "    c = c_vals[i]\n",
    "    max_wage_array = np.zeros(3)\n",
    "        \n",
    "    equal = False\n",
    "\n",
    "    while (equal == False):\n",
    "        \n",
    "        for j in range (0, len(wage_array)):\n",
    "            max_wage = max(w, wage_array[j])\n",
    "            max_wage_array[j] = max_wage\n",
    "            \n",
    "        wage2 = c * (1 - b) + b * max_wage_array.T @ prob_array\n",
    "    \n",
    "        if wage2 == w:\n",
    "            equal = True\n",
    "        else:\n",
    "            w = wage2\n",
    "    \n",
    "    w_vals[i] = w\n",
    "    \n",
    "plt.plot(c_vals, w_vals)\n",
    "plt.title('Reservation wage for compensation values', fontsize=10)\n",
    "plt.xlabel(r'c')\n",
    "plt.ylabel(r'w')\n",
    "plt.show()"
   ]
  },
  {
   "cell_type": "markdown",
   "metadata": {},
   "source": [
    "Is the reservation wage increasing or decreasing in this value?  Does that coincide with your intuition?"
   ]
  },
  {
   "cell_type": "markdown",
   "metadata": {
    "collapsed": true
   },
   "source": [
    "The reservation wage is increasing in value. This coincides with the intuition that as compensation values increase, the reservation wage should increase as people are less likely to accept a lower wage if their unemployment compensation is so high."
   ]
  },
  {
   "cell_type": "code",
   "execution_count": null,
   "metadata": {
    "collapsed": true
   },
   "outputs": [],
   "source": []
  }
 ],
 "metadata": {
  "kernelspec": {
   "display_name": "Python 3",
   "language": "python",
   "name": "python3"
  },
  "language_info": {
   "codemirror_mode": {
    "name": "ipython",
    "version": 3
   },
   "file_extension": ".py",
   "mimetype": "text/x-python",
   "name": "python",
   "nbconvert_exporter": "python",
   "pygments_lexer": "ipython3",
   "version": "3.6.1"
  }
 },
 "nbformat": 4,
 "nbformat_minor": 2
}
