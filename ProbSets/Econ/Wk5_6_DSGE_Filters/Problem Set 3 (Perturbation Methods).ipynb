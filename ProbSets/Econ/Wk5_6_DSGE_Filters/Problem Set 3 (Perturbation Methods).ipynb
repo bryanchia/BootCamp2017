{
 "cells": [
  {
   "cell_type": "code",
   "execution_count": 1,
   "metadata": {
    "collapsed": true
   },
   "outputs": [],
   "source": [
    "import numpy as np\n",
    "import scipy as sp\n",
    "from scipy import stats\n",
    "import matplotlib.pyplot as plt\n",
    "import math\n",
    "import scipy.linalg as la\n",
    "from scipy import optimize as opt\n",
    "from LinApp_FindSS import LinApp_FindSS\n",
    "from LinApp_Deriv import LinApp_Deriv\n",
    "from LinApp_Solve import LinApp_Solve"
   ]
  },
  {
   "cell_type": "code",
   "execution_count": null,
   "metadata": {
    "collapsed": true
   },
   "outputs": [],
   "source": [
    "alpha = 0.33\n",
    "k = 5.0\n",
    "z = 1.0\n",
    "b = 2.0\n",
    "t =0.1\n",
    "h = 24.0\n",
    "\n",
    "def equation1(inputs, params):\n",
    "    r, k, c, T = inputs\n",
    "    gamma, ci, beta, alpha, a, delta, z, tao, l = params\n",
    "    \n",
    "    nd = k * (((1 - alpha) * z) / w) ** (1/alpha)\n",
    "    ns = h - (b / (w * (1 + b))) * (w * h + )\n",
    "    \n",
    "    diff1 = c - (1 - tao) * ((r - delta) * k) - T\n",
    "    diff2 = 1 - beta * ((r - delta) * (1- tao) + 1)\n",
    "    diff4 = r - alpha * (k ** (alpha - 1)) * ((l * np.exp(z)) ** (1 - alpha))\n",
    "    diff6 = tao * (r - delta) * k  - T\n",
    "    diff_vec = np.array([diff1, diff2, diff4, diff6])\n",
    "    return diff_vec\n",
    "\n",
    "r_init = 0.1\n",
    "k_init = 5\n",
    "c_init = 0.1\n",
    "T_init = 0.1\n",
    "\n",
    "init_vec = np.array([r_init, k_init, c_init, T_init])\n",
    "params = [gamma, ci, beta, alpha, a, delta, z, tao, l]\n",
    "#bounds = ((1e-10, None), (1e-10, None))\n",
    "#results = opt.minimize(equations1, init_vec, args = params, method = 'L-BFGS-B',bounds = bounds, tol = 1e-10)\n",
    "results2 = opt.fsolve(equations11, init_vec, args = params)\n",
    "\n",
    "print(\"Numerical Method: r =\", results2[0], \", K = \",results2[1], \", c = \", results2[2], \", T = \",results2[3])\n",
    "print(\"These match up with our algebraic solutions.\")"
   ]
  }
 ],
 "metadata": {
  "kernelspec": {
   "display_name": "Python 3",
   "language": "python",
   "name": "python3"
  },
  "language_info": {
   "codemirror_mode": {
    "name": "ipython",
    "version": 3
   },
   "file_extension": ".py",
   "mimetype": "text/x-python",
   "name": "python",
   "nbconvert_exporter": "python",
   "pygments_lexer": "ipython3",
   "version": "3.6.1"
  }
 },
 "nbformat": 4,
 "nbformat_minor": 2
}
