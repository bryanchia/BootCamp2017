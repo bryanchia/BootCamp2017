{
 "cells": [
  {
   "cell_type": "code",
   "execution_count": 2,
   "metadata": {
    "collapsed": true
   },
   "outputs": [],
   "source": [
    "import numpy as np\n",
    "import scipy as sp\n",
    "from scipy import stats\n",
    "import matplotlib.pyplot as plt\n",
    "import scipy.optimize as opt\n",
    "\n",
    "data2 = np.genfromtxt('/Users/bryanchia/Desktop/BootCamp2017/ProbSets/Econ/Wk4_StrEst/data/MacroSeries.txt', delimiter = ',')\n",
    "\n",
    "c = data2[:,0]\n",
    "k = data2[:,1]\n",
    "w = data2[:,2]\n",
    "r = data2[:,3]"
   ]
  },
  {
   "cell_type": "markdown",
   "metadata": {},
   "source": [
    "Question 4\n",
    "=============="
   ]
  },
  {
   "cell_type": "code",
   "execution_count": 3,
   "metadata": {
    "collapsed": true
   },
   "outputs": [],
   "source": [
    "def model_moments(c, k, w, r, alpha, beta, rho, mu):\n",
    "\n",
    "    z = np.log(r) +(1 - alpha)*np.log(k) - np.log(alpha)\n",
    "    model_mom1 = (z - rho*np.append(mu, z[:-1]) - (1 - rho)*mu).mean()\n",
    "    model_mom2 = ((z - rho*np.append(mu, z[:-1]) - (1 - rho)*mu)*np.append(mu, z[:-1])).mean()\n",
    "    model_mom3 = ((beta*alpha*np.exp(z[1:])*(k[1:]**(alpha - 1))*c[:-1]/c[1:]) - 1).mean()\n",
    "    model_mom4 = (((beta*alpha*np.exp(z[1:])*(k[1:]**(alpha - 1))*c[:-1]/c[1:]) - 1)*w[:-1]).mean()\n",
    "    \n",
    "    return model_mom1, model_mom2, model_mom3, model_mom4\n",
    "\n",
    "moms_data = np.array([[1e-30], [1e-30], [1e-30], [1e-30]])\n",
    "\n",
    "def err_vec(c, k, w, r, alpha, beta, rho, mu, moms_data, simple = False):\n",
    "\n",
    "    model_mom1, model_mom2, model_mom3, model_mom4 = model_moments(c, k, w, r, alpha, beta, rho, mu)\n",
    "    moms_model = np.array([[model_mom1], [model_mom2], [model_mom3], [model_mom4]])\n",
    "    if simple:\n",
    "        err_vec = moms_model - moms_data\n",
    "    else:\n",
    "        err_vec = (moms_model - moms_data)/moms_model\n",
    "    \n",
    "    return err_vec\n",
    "\n",
    "def crit(params, *args):\n",
    "    alpha, beta, rho, mu = params\n",
    "    c, k, w, r, moms_data, W, simple = args\n",
    "    err = err_vec(c, k, w, r, alpha, beta, rho, mu, moms_data, simple)\n",
    "    crit_val = np.dot(np.dot(err.T, W), err)\n",
    "    \n",
    "    return crit_val"
   ]
  },
  {
   "cell_type": "code",
   "execution_count": 4,
   "metadata": {},
   "outputs": [
    {
     "name": "stdout",
     "output_type": "stream",
     "text": [
      "MLE results:  \n",
      "Rho =  0.50539446811 \n",
      "Alpha =  0.450454101541 \n",
      "Mu =  9.49691995889 \n",
      "Beta =  0.98999999502\n",
      "Hessian =  [[  6.58972667e+07   3.96669088e+02  -7.17477566e+06   4.09653030e+06]\n",
      " [  3.96669088e+02   2.38775254e-03  -4.31886168e+01   2.46590951e+01]\n",
      " [ -7.17477566e+06  -4.31886168e+01   7.81177657e+05  -4.46022844e+05]\n",
      " [  4.09653030e+06   2.46590951e+01  -4.46022844e+05   2.54663471e+05]]\n"
     ]
    }
   ],
   "source": [
    "alpha_init = 0.5\n",
    "beta_init = 0.5\n",
    "rho_init = 0.5\n",
    "mu_init = 9.5\n",
    "bnds = ((1e-5, 1-(1e-5)), (1e-5, 1-(1e-5)), ((1e-5)-1, 1-(1e-5)), (1e-5, None))\n",
    "params_init = (alpha_init, beta_init, rho_init, mu_init)\n",
    "gmm_args = (c, k, w, r, moms_data, np.eye(4), True)\n",
    "results = opt.minimize(crit, params_init, args=(gmm_args), method='L-BFGS-B', bounds=bnds)\n",
    "results\n",
    "alpha_MLE, beta_MLE, rho_MLE, mu_MLE  = results.x\n",
    "print(\"MLE results: \", \"\\nRho = \", rho_MLE, \"\\nAlpha = \", alpha_MLE, \"\\nMu = \", mu_MLE, \"\\nBeta = \", beta_MLE)\n",
    "print(\"Hessian = \", results.hess_inv.todense())"
   ]
  },
  {
   "cell_type": "code",
   "execution_count": null,
   "metadata": {
    "collapsed": true
   },
   "outputs": [],
   "source": []
  }
 ],
 "metadata": {
  "kernelspec": {
   "display_name": "Python 3",
   "language": "python",
   "name": "python3"
  },
  "language_info": {
   "codemirror_mode": {
    "name": "ipython",
    "version": 3
   },
   "file_extension": ".py",
   "mimetype": "text/x-python",
   "name": "python",
   "nbconvert_exporter": "python",
   "pygments_lexer": "ipython3",
   "version": "3.6.1"
  }
 },
 "nbformat": 4,
 "nbformat_minor": 2
}
