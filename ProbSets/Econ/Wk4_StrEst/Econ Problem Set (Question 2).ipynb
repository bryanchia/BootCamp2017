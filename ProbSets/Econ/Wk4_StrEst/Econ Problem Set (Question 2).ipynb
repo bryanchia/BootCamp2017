{
 "cells": [
  {
   "cell_type": "code",
   "execution_count": 1,
   "metadata": {
    "collapsed": true
   },
   "outputs": [],
   "source": [
    "import numpy as np\n",
    "import scipy as sp\n",
    "from scipy import stats\n",
    "import matplotlib.pyplot as plt\n",
    "\n",
    "data2 = np.genfromtxt('/Users/bryanchia/Desktop/BootCamp2017/ProbSets/Econ/Wk4_StrEst/data/MacroSeries.txt', delimiter = ',')\n",
    "\n",
    "c = data2[:,0]\n",
    "k = data2[:,1]\n",
    "w = data2[:,2]\n",
    "r = data2[:,3]"
   ]
  },
  {
   "cell_type": "markdown",
   "metadata": {},
   "source": [
    "Problem 2\n",
    "=============="
   ]
  },
  {
   "cell_type": "code",
   "execution_count": 2,
   "metadata": {},
   "outputs": [
    {
     "name": "stdout",
     "output_type": "stream",
     "text": [
      "MLE results:  \n",
      "Rho =  0.479873665481 \n",
      "Alpha =  0.70202487959 \n",
      "Mu =  6.25490684743 \n",
      "Sigma =  0.0920448666888\n",
      "Hessian =  [[  1.78762764e+02  -2.28097976e+02   2.80482586e+03   2.20535936e+01]\n",
      " [ -2.28097976e+02   3.22353938e+02  -3.96582559e+03  -3.16589719e+01]\n",
      " [  2.80482586e+03  -3.96582559e+03   4.87904974e+04   3.89519196e+02]\n",
      " [  2.20535936e+01  -3.16589719e+01   3.89519196e+02   3.11643617e+00]]\n"
     ]
    }
   ],
   "source": [
    "#Part A\n",
    "\n",
    "def z_pdf(w, k, rho, alpha, mu, sigma):\n",
    "    \n",
    "    zpast = np.empty((len(w)))\n",
    "    zvals = np.log(w) - np.log(1-alpha) - alpha * np.log(k)\n",
    "    zpast[0] = mu\n",
    "    zpast[1:] = zvals[:-1]\n",
    "    mean = rho * zpast + (1- rho) * mu\n",
    "    \n",
    "    denom1 = (2 * sigma**2)\n",
    "    if np.isclose(denom1, 0, atol = 1e-25):\n",
    "        denom1 = 1e-24\n",
    "    \n",
    "    exponent = np.exp( - (zvals - mean)**2 / denom1 )\n",
    "    exponent[np.isclose(exponent, np.zeros_like(exponent), atol = 1e-30)] = 1e-29\n",
    "    \n",
    "    denom2 = sigma * np.sqrt(2 * np.pi)\n",
    "    if np.isclose(denom2, 0, atol = 1e-25):\n",
    "        denom2 = 1e-24\n",
    "    \n",
    "    pdf_vals = (1/denom2) * exponent\n",
    "    pdf_vals[np.isclose(pdf_vals, np.zeros_like(pdf_vals), atol = 1e-30)] = 1e-29\n",
    "    \n",
    "    return pdf_vals\n",
    "\n",
    "def log_lik_znorm(w, k, rho, alpha, mu, sigma):\n",
    " \n",
    "    pdf_vals = z_pdf(w, k, rho, alpha, mu, sigma)\n",
    "    ln_pdf_vals = np.log(pdf_vals)\n",
    "    log_lik_val = ln_pdf_vals.sum()\n",
    "    \n",
    "    return log_lik_val\n",
    "\n",
    "def crit(params, *args):\n",
    "\n",
    "    rho, alpha, mu, sigma = params\n",
    "    w, k = args\n",
    "    log_lik_val = log_lik_znorm(w, k, rho, alpha, mu, sigma)\n",
    "    neg_log_lik_val = -log_lik_val\n",
    "    #print (neg_log_lik_val)\n",
    "    \n",
    "    return neg_log_lik_val\n",
    "\n",
    "import scipy.optimize as opt\n",
    "\n",
    "alpha_init = 0.5\n",
    "rho_init = 0\n",
    "mu_init = 1\n",
    "sig_init = 1\n",
    "bnds = ((-1 + 1e-5, 1 - 1e-5),(1e-5, 1 - 1e-5),(1e-5, None),(1e-5, None))\n",
    "params_init = np.array([rho_init, alpha_init, mu_init, sig_init])\n",
    "mle_args = (w, k)\n",
    "results = opt.minimize(crit, params_init, args= mle_args, method = 'L-BFGS-B', bounds = bnds)\n",
    "rho_MLE, alpha_MLE, mu_MLE, sigma_MLE  = results.x\n",
    "print(\"MLE results: \", \"\\nRho = \", rho_MLE, \"\\nAlpha = \", alpha_MLE, \"\\nMu = \", mu_MLE, \"\\nSigma = \", sigma_MLE)\n",
    "print(\"Hessian = \", results.hess_inv.todense())"
   ]
  },
  {
   "cell_type": "code",
   "execution_count": 3,
   "metadata": {},
   "outputs": [
    {
     "name": "stdout",
     "output_type": "stream",
     "text": [
      "MLE results:  \n",
      "Rho =  0.479983436642 \n",
      "Alpha =  0.70193268349 \n",
      "Mu =  5.07676281408 \n",
      "Sigma =  0.0920454824043\n",
      "Hessian =  [[  4.61478907e+02  -5.36600638e+02   9.19425424e+03   3.32499713e+01]\n",
      " [ -5.36600638e+02   6.34599574e+02  -1.08733195e+04  -3.97688740e+01]\n",
      " [  9.19425424e+03  -1.08733195e+04   1.86305008e+05   6.81402282e+02]\n",
      " [  3.32499714e+01  -3.97688740e+01   6.81402282e+02   2.51080252e+00]]\n"
     ]
    }
   ],
   "source": [
    "#Part B\n",
    "\n",
    "def z2_pdf(r, k, rho, alpha, mu, sigma):\n",
    "    \n",
    "    zpast = np.empty((len(r)))\n",
    "    zvals = np.log(r) - np.log(alpha) - (alpha - 1) * np.log(k)\n",
    "    zpast[0] = mu\n",
    "    zpast[1:] = zvals[:-1]\n",
    "    mean = rho * zpast + (1- rho) * mu\n",
    "    \n",
    "    denom1 = (2 * sigma**2)\n",
    "    if np.isclose(denom1, 0, atol = 1e-25):\n",
    "        denom1 = 1e-24\n",
    "    \n",
    "    exponent = np.exp( - (zvals - mean)**2 / denom1 )\n",
    "    exponent[np.isclose(exponent, np.zeros_like(exponent), atol = 1e-30)] = 1e-29\n",
    "    \n",
    "    denom2 = sigma * np.sqrt(2 * np.pi)\n",
    "    if np.isclose(denom2, 0, atol = 1e-25):\n",
    "        denom2 = 1e-24\n",
    "    \n",
    "    pdf_vals = (1/denom2) * exponent\n",
    "    pdf_vals[np.isclose(pdf_vals, np.zeros_like(pdf_vals), atol = 1e-30)] = 1e-29\n",
    "    \n",
    "    return pdf_vals\n",
    "\n",
    "def log_lik_znorm2(r, k, rho, alpha, mu, sigma):\n",
    " \n",
    "    pdf_vals = z2_pdf(r, k, rho, alpha, mu, sigma)\n",
    "    ln_pdf_vals = np.log(pdf_vals)\n",
    "    log_lik_val = ln_pdf_vals.sum()\n",
    "    \n",
    "    return log_lik_val\n",
    "\n",
    "def crit2(params, *args):\n",
    "\n",
    "    rho, alpha, mu, sigma = params\n",
    "    w, k = args\n",
    "    log_lik_val = log_lik_znorm2(r, k, rho, alpha, mu, sigma)\n",
    "    neg_log_lik_val = -log_lik_val\n",
    "    #print (neg_log_lik_val)\n",
    "    \n",
    "    return neg_log_lik_val\n",
    "\n",
    "import scipy.optimize as opt\n",
    "\n",
    "alpha_init = 0.5\n",
    "rho_init = 0\n",
    "mu_init = 1\n",
    "sig_init = 1 \n",
    "bnds = ((-1 + 1e-5, 1 - 1e-5),(1e-5, 1 - 1e-5),(1e-5, None),(1e-5, None))\n",
    "params_init2 = np.array([rho_init, alpha_init, mu_init, sig_init])\n",
    "mle_args = (r, k)\n",
    "results = opt.minimize(crit2, params_init2, args= mle_args, method = 'L-BFGS-B', bounds = bnds)\n",
    "rho_MLE, alpha_MLE, mu_MLE, sigma_MLE  = results.x\n",
    "print(\"MLE results: \", \"\\nRho = \", rho_MLE, \"\\nAlpha = \", alpha_MLE, \"\\nMu = \", mu_MLE, \"\\nSigma = \", sigma_MLE)\n",
    "print(\"Hessian = \", results.hess_inv.todense())"
   ]
  },
  {
   "cell_type": "code",
   "execution_count": 5,
   "metadata": {},
   "outputs": [
    {
     "name": "stdout",
     "output_type": "stream",
     "text": [
      "5.07244666661\n",
      "0.9999999999998865\n"
     ]
    }
   ],
   "source": [
    "#Part 3\n",
    "\n",
    "\n",
    "def z3_pdf(z, zp, rho, alpha, mu, sigma):\n",
    "\n",
    "    mean = rho * zp + (1- rho) * mu\n",
    "    \n",
    "    denom1 = (2 * sigma**2)\n",
    "    if np.isclose(denom1, 0, atol = 1e-25):\n",
    "        denom1 = 1e-24\n",
    "    \n",
    "    exponent = np.exp( - (z - mean)**2 / denom1 )\n",
    "    \n",
    "    denom2 = sigma * np.sqrt(2 * np.pi)\n",
    "    if np.isclose(denom2, 0, atol = 1e-25):\n",
    "        denom2 = 1e-24\n",
    "    \n",
    "    pdf_vals = (1/denom2) * exponent\n",
    "    \n",
    "    return pdf_vals\n",
    "\n",
    "k = 7500000\n",
    "r = 1\n",
    "zp = 10\n",
    "alpha = alpha_MLE\n",
    "\n",
    "z = np.log(r) - np.log(alpha_MLE) - (alpha_MLE - 1) * np.log(k)\n",
    "print(z)\n",
    "\n",
    "z3 = lambda x: z3_pdf(x, zp, rho_MLE, alpha_MLE, mu_MLE, sigma_MLE)\n",
    "\n",
    "(vals, err) = sp.integrate.quad(z3, z , np.inf )\n",
    "\n",
    "print(vals)"
   ]
  },
  {
   "cell_type": "code",
   "execution_count": null,
   "metadata": {
    "collapsed": true
   },
   "outputs": [],
   "source": []
  }
 ],
 "metadata": {
  "kernelspec": {
   "display_name": "Python 3",
   "language": "python",
   "name": "python3"
  },
  "language_info": {
   "codemirror_mode": {
    "name": "ipython",
    "version": 3
   },
   "file_extension": ".py",
   "mimetype": "text/x-python",
   "name": "python",
   "nbconvert_exporter": "python",
   "pygments_lexer": "ipython3",
   "version": "3.6.1"
  }
 },
 "nbformat": 4,
 "nbformat_minor": 2
}
